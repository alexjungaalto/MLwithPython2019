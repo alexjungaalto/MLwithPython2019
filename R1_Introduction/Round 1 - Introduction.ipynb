{
 "cells": [
  {
   "cell_type": "markdown",
   "metadata": {
    "deletable": false,
    "editable": false,
    "nbgrader": {
     "cell_type": "markdown",
     "checksum": "da441d6727bf94de277f8caeeeee7577",
     "grade": false,
     "grade_id": "Introduction",
     "locked": true,
     "schema_version": 3,
     "solution": false
    }
   },
   "source": [
    "# Machine Learning with Python - Introduction\n",
    " \n",
    "## Learning goals \n",
    "\n",
    "In this \"warm-up\" exercise you will be introduced to some basic but useful functionalities provided by Python.\n",
    "We will demonstrate how to \n",
    "\n",
    "* plot functions, \n",
    "* read in data from files or the internet, \n",
    "* visualize data sets using scatter plots, \n",
    "* compute an eigenvalue decomposition and \n",
    "* plot the probability density function of a Gaussian random variable. \n",
    "\n",
    "This notebook contains few student tasks which require you to write a few lines of Python code to solve small problems. In particular, you have to fill in the gaps marked as **Student Task**.\n",
    "\n",
    "\n",
    "## Exercise Contents\n",
    "\n",
    "The exercise consist of the following parts:\n",
    "\n",
    "1. [Matrices and Vectors](#Q1): You will learn how to define and work with matrices and vectors.\n",
    "\n",
    "2. [Plotting](#Q2): You will learn how to define and plot a function.\n",
    "\n",
    "3. [Reading in Data](#Q3): You will learn to load data from files and to create scatter plots.\n",
    "\n",
    "4. [Eigenvectors](#Q4): You will review the concept of eigenvalue decompositions. \n",
    "\n",
    "5. [Probability Distributions](#Q5): You will review the concept of Gaussian Probability density function.\n",
    "\n",
    "## Keywords \n",
    "\n",
    "`linear algebra`, `plotting`, `scatter plot`, `loading/saving files`, `eigenvalues and eigenvectors`, `matplotlib`, `numpy`, `pandas` ,`Gaussian probability density function` \n",
    "\n",
    "## Relevant Sections in [Course Book](https://arxiv.org/abs/1805.05052)  \n",
    "\n",
    "Secion 1; Section 2\n",
    "\n",
    "\n",
    "## 1. Matrices and Vectors\n",
    "<a id=\"Q1\"></a>\n",
    "\n",
    "We now introduce the Python library `numpy`, which provides implementations of many useful matrix and vector operations, e.g. matrix multiplication or computing an eigenvalue decomposition. **Throughout this course we will represent matrices or vectors consistently using numpy data types (\"numpy arrays\").**\n",
    "\n",
    "Hints: \n",
    "\n",
    "* You can find a more detailed tutorial on the `numpy` package under [this link](https://hackernoon.com/introduction-to-numpy-1-an-absolute-beginners-guide-to-machine-learning-and-data-science-5d87f13f0d51).\n",
    "\n",
    "* you can read \"Learn the Basics\" and \"Data Science Tutorial\" sections from [this link](https://www.learnpython.org/en/).\n",
    "\n",
    "* a quick refresher for basic properties of matrices can be found under [this link](https://www.math.uwaterloo.ca/~hwolkowi/matrixcookbook.pdf)\n"
   ]
  },
  {
   "cell_type": "code",
   "execution_count": null,
   "metadata": {
    "deletable": false,
    "editable": false,
    "nbgrader": {
     "cell_type": "code",
     "checksum": "3255f53c6f9892b93e7213b9e93ea5fa",
     "grade": false,
     "grade_id": "Matrices_and_vectors_code",
     "locked": true,
     "schema_version": 3,
     "solution": false
    }
   },
   "outputs": [],
   "source": [
    "#Important libraries to import:\n",
    "# NumPy: is the fundamental package for scientific computing with Python.\n",
    "# matplotlib.pyplot: provides a MATLAB-like plotting framework.\n",
    "\n",
    "import numpy as np              # use shorthand \"np\" for the numpy library (\"package\")\n",
    "import matplotlib.pyplot as plt # use shorthand \"plt\" for package matlobplit.pyplot\n",
    "import pandas as pd             # use \"pd\" for package \"pandas\" providing methods for \n",
    "                                # loading and saving data from and to files \n",
    "\n",
    "# the following two imports are for testing purposes only\n",
    "from plotchecker import ScatterPlotChecker\n",
    "from plotchecker import LinePlotChecker\n",
    "\n",
    "# let's create a vector a of length 9:\n",
    "a = np.array([1,2,3,4,5,6,7,8,9]).transpose()\n",
    "dimension=np.shape(a)\n",
    "rows = dimension[0]\n",
    "print(\"now we have a vector a =\",a) \n",
    "print(\"the vector a has\", rows, \"elements \\n\")\n",
    "\n",
    "# create a 2 x 2 matrix, denoted B, which contains only zero entries\n",
    "B = np.zeros((2,2))\n",
    "print(\"now we have a matrix B = \\n\",B)\n",
    "dimension=np.shape(B)      # determine dimensions of matrix B\n",
    "rows = dimension[0]        # first element of dimension is the number of rows \n",
    "cols = dimension[1]        # second element of \"dimension\" is the number of cols\n",
    "print(\"the matrix B has\", rows, \"rows and\", cols, \"columns \\n\")"
   ]
  },
  {
   "cell_type": "markdown",
   "metadata": {
    "deletable": false,
    "editable": false,
    "nbgrader": {
     "cell_type": "markdown",
     "checksum": "05da7ca28e721713b67583861fc14fa1",
     "grade": false,
     "grade_id": "cell-e69489a39724fba4",
     "locked": true,
     "schema_version": 3,
     "solution": false
    }
   },
   "source": [
    "<a id='LoadDataset'></a>\n",
    "<div class=\" alert alert-info\">\n",
    "    <b>Demo.</b> Matrix Multiplication. \n",
    "    </div>\n",
    "    \n",
    "The code snippet below implements a Python function `C,rows,cols=Matrix_multiplication(A,B)` which reads in two matrices $\\mathbf{A}$ and $\\mathbf{B}$ and returns the product $\\mathbf{C}=\\mathbf{A} \\mathbf{B}$ along with the number of rows and columns of the resulting matrix. The aim of this demo is to show how to declare a function with multiple input and output parameters."
   ]
  },
  {
   "cell_type": "code",
   "execution_count": null,
   "metadata": {
    "deletable": false,
    "editable": false,
    "nbgrader": {
     "cell_type": "code",
     "checksum": "305e2e9888f15a3571c5e87ca50d7fb9",
     "grade": false,
     "grade_id": "cell-c98d0b279db39cd5",
     "locked": true,
     "schema_version": 3,
     "solution": false
    }
   },
   "outputs": [],
   "source": [
    "def Matrix_multiplication(A, B):\n",
    "    \"\"\"\n",
    "    Compute the matrix multiplication A*B and its shape\n",
    "    \n",
    "    :param A: array-like, shape=(m, n)\n",
    "    :param B: array-like, shape=(o, p)\n",
    "    \n",
    "    :return: The matrix being the result of the multiplication, the number of rows and the number columns \n",
    "    \"\"\"\n",
    "    #We now construct another matrix H by multiplying the matrices A and B using the function np.dot():\n",
    "    H = np.dot(A,B)\n",
    "    shape = H.shape\n",
    "    \n",
    "    # A matrix that is the product of two matrices with r1 and r2 rows\n",
    "    # and c1 and c2 columns will have r1 rows and c2 columns \n",
    "    \n",
    "    rows = shape[0]\n",
    "    cols = shape[1]\n",
    "    \n",
    "    return H, rows, cols"
   ]
  },
  {
   "cell_type": "code",
   "execution_count": null,
   "metadata": {
    "deletable": false,
    "editable": false,
    "nbgrader": {
     "cell_type": "code",
     "checksum": "0548210c45984d890646ea3b609b092e",
     "grade": false,
     "grade_id": "cell-c5327fd075ca8d88",
     "locked": true,
     "schema_version": 3,
     "solution": false
    }
   },
   "outputs": [],
   "source": [
    "#Here we create two 3*3 matrices C and I:\n",
    "C = np.array([[1,4,0],[3,2,5],[6,2,1]])\n",
    "I = np.eye(3)\n",
    "print(\"C = \\n\",C)\n",
    "print(\"I = \\n\",I)\n",
    "\n",
    "D, rows, cols = Matrix_multiplication(C,I)\n",
    "print(\"D = C * I = \\n\",D)\n",
    "\n",
    "#Read a particular row and column of matrix D:\n",
    "\n",
    "secondcol = D[:,1]   # remember that indexing starts at 0 in Python ! \n",
    "secondrow = D[1,:]\n",
    "print(\"second column of D = \\n\",secondcol)\n",
    "print(\"second row of D =\",secondrow)\n",
    "\n",
    "# let us now determine the size of a matrix that \n",
    "# is obtained as the product of two other matrices F and G\n",
    "F = np.array([[1,2],[3,4],[5,6]])\n",
    "\n",
    "print(\"now we have a matrix F = \\n\", F)\n",
    "print(\"\\n the matrix F has\", F.shape[0], \"rows and\", F.shape[1], \"columns\\n\")\n",
    "\n",
    "G = np.array([[1,2,3],[3,4,5]])\n",
    "\n",
    "print(\"now we have a matrix G = \\n\", G)\n",
    "print(\"\\n the matrix G has\", G.shape[0], \"rows and\", G.shape[1], \"columns\\n\")\n",
    "\n",
    "# what will be the size of F*G ?\n",
    "H, rows, cols = Matrix_multiplication(F,G)\n",
    "\n",
    "print(\"the product H=F*G is H = \\n\", H)\n",
    "print(\"\\n the matrix H has\", rows, \"rows and\", cols, \"columns\\n\")\n",
    "\n",
    "print(\"\\n\") # create a line break \n",
    "\n",
    "# In the last step we want to take a look at how to build a 3d array\n",
    "# by using the np.array() method\n",
    "# you can also create directly a 3 dimension array by using methods such as np.empty, np.zeros etc. \n",
    "# and specifying a third parameter e.g. np.zeros((2,3,4))\n",
    "L = np.array([[[0, 1],[2, 3]], [[4, 5],[6, 7]], [[9,10],[11,12]]]) #size 2,2,3\n",
    "\n",
    "print(\"L = \", L) #you can see it as 3 matrices of size 2x2 each"
   ]
  },
  {
   "cell_type": "markdown",
   "metadata": {
    "deletable": false,
    "editable": false,
    "nbgrader": {
     "cell_type": "markdown",
     "checksum": "8af0507479c26f7559392cc518eb9a6e",
     "grade": false,
     "grade_id": "Plotting_text",
     "locked": true,
     "schema_version": 3,
     "solution": false
    }
   },
   "source": [
    "## 2. Plotting Data\n",
    "<a id=\"Q2\"></a>\n",
    "\n",
    "In this task you will learn how to use the Python library (or package) `matplotlib` (https://matplotlib.org/index.html) to depict functions such as the **sigmoid function** $f(x)=\\dfrac{1}{1+e^{-x}}$. The sigmoid function is widely used in machine learning methods as it allows to represent confidence levels, from no confidence ($f(x)\\approx 0$) to full confidence ($f(x)\\approx 1$), for classifications methods.\n",
    "\n",
    "Hint: \n",
    "- You can find useful tutorials for the `matplotlib` package under [this link](https://matplotlib.org/3.0.2/tutorials/index.html#introductory)"
   ]
  },
  {
   "cell_type": "markdown",
   "metadata": {
    "deletable": false,
    "editable": false,
    "nbgrader": {
     "cell_type": "markdown",
     "checksum": "b7c445218dfe84c27725d953aff7de8d",
     "grade": false,
     "grade_id": "Task_2_1_text",
     "locked": true,
     "schema_version": 3,
     "solution": false
    }
   },
   "source": [
    "\n",
    "<a id='LoadDataset'></a>\n",
    "\n",
    "<div class=\" alert alert-info\">\n",
    "\n",
    "<b>Demo.</b> \n",
    "\n",
    "Plotting Functions. \n",
    "  </div>\n",
    "  \n",
    "The code snippet below implements a Python function `axes=Plot_sigmoid()` \n",
    "which does not have any input parameters and returns an `axes` object \n",
    "for a plot of the sigmoid function $f(x)$ in the range $x=-6 ,\\ldots,6$.\n",
    "\n",
    "Hint: \n",
    "\n",
    "You can find more information about the `axes` object under [this link](https://matplotlib.org/api/axes_api.html?highlight=axes#module-matplotlib.axes)\n",
    "\n",
    " \n"
   ]
  },
  {
   "cell_type": "code",
   "execution_count": null,
   "metadata": {
    "deletable": false,
    "editable": false,
    "nbgrader": {
     "cell_type": "code",
     "checksum": "d1ee9c35b8d2b6ab555ae8eb1d4a234d",
     "grade": false,
     "grade_id": "Task_2_1_code",
     "locked": true,
     "schema_version": 3,
     "solution": false
    }
   },
   "outputs": [],
   "source": [
    "def Plot_sigmoid():\n",
    "    \"\"\"\n",
    "    Plot the sigmoid function f(x) in the range [-6,6]\n",
    "    \n",
    "    :return: axes object used for testing, containing the plot of f(x).    \n",
    "    \"\"\"\n",
    "    \n",
    "    def sigmoid_func(x):\n",
    "        f_x = 1/(1+np.exp(-x))\n",
    "        return f_x\n",
    "\n",
    "    fig, axes = plt.subplots(1, 1, figsize=(15, 5)) #used only for testing purpose\n",
    "\n",
    "    # np.arange creates a vector starting from -6 to 6 (not included) with step 0.01.\n",
    "    # range_x will contain [-6.0 -5.99 -5.98 ... 5.97 5.98 5.99]\n",
    "    range_x = np.arange(-6 , 6 , 0.01)\n",
    "\n",
    "    f_x = np.empty(len(range_x))\n",
    "\n",
    "    for i in range(len(range_x)):\n",
    "        f_x[i] = sigmoid_func(range_x[i])\n",
    "\n",
    "    \n",
    "    # plot the results, using the plot function in matplotlib.pyplot.\n",
    "    axes.plot(range_x,f_x, label='sigmoid function')\n",
    "    axes.set_xlabel('x')\n",
    "    axes.set_ylabel('f(x)')\n",
    "    axes.legend()\n",
    "    \n",
    "    return axes"
   ]
  },
  {
   "cell_type": "code",
   "execution_count": null,
   "metadata": {
    "deletable": false,
    "editable": false,
    "nbgrader": {
     "cell_type": "code",
     "checksum": "45f512478a3bdcc73a30a927192e07a3",
     "grade": false,
     "grade_id": "Task_2_1_test",
     "locked": true,
     "schema_version": 3,
     "solution": false
    }
   },
   "outputs": [],
   "source": [
    "axes = Plot_sigmoid()"
   ]
  },
  {
   "cell_type": "markdown",
   "metadata": {
    "deletable": false,
    "editable": false,
    "nbgrader": {
     "cell_type": "markdown",
     "checksum": "e37addfa6404de6543e67012b6c4a8bc",
     "grade": false,
     "grade_id": "Task_2_2_text",
     "locked": true,
     "schema_version": 3,
     "solution": false
    }
   },
   "source": [
    "<a id='LoadDataset'></a>\n",
    "<div class=\" alert alert-info\">\n",
    "    <b>Demo.</b> Plotting Functions. \n",
    "    </div>\n",
    "\n",
    "The following code snippet implements a Python function `axes=Plot_first_derivative()` which has no input parameters and returns an `axes` object. The returned `axes` object should contain a plot of the first derivative $f'(x)$ of the sigmoid function $f(x)=\\dfrac{1}{1+e^{-x}}$ in the range $x=-6 ,\\ldots,6$."
   ]
  },
  {
   "cell_type": "code",
   "execution_count": null,
   "metadata": {
    "deletable": false,
    "editable": false,
    "nbgrader": {
     "cell_type": "code",
     "checksum": "521e59f2a16c95f86b1617ab47476199",
     "grade": false,
     "grade_id": "Task_2_2_code",
     "locked": true,
     "schema_version": 3,
     "solution": false
    }
   },
   "outputs": [],
   "source": [
    "def Plot_first_derivative():\n",
    "    \"\"\"\n",
    "    Plot the first derivative of the sigmoid function f(x) in the range [-6,6]\n",
    "    \n",
    "    :return: axes object used for testing, containing the plot of f'(x).    \n",
    "    \"\"\"\n",
    "    \n",
    "    def sigmoid_func(x):\n",
    "        f_x = 1/(1+np.exp(-x))\n",
    "        return f_x\n",
    "\n",
    "    fig, axes = plt.subplots(1, 1, figsize=(15, 5)) #used only for testing purpose\n",
    "\n",
    "    # np.arange creates a vector starting from -6 to 6 (not included) with step 0.01.\n",
    "    # range_x will contain [-6.0 -5.99 -5.98 ... 5.97 5.98 5.99]\n",
    "    range_x = np.arange(-6 , 6 , 0.01)\n",
    "\n",
    "    f_x = np.empty(len(range_x))\n",
    "\n",
    "    for i in range(len(range_x)):\n",
    "        f_x[i] = sigmoid_func(range_x[i])\n",
    "    \n",
    "    # Let's find the first derivative of the mentioned function and plot it. \n",
    "    f_prime_x = f_x * (1-f_x)\n",
    "    axes.plot(range_x,f_prime_x, label='derivative of sigmoid function')\n",
    "    axes.set_xlabel('x')\n",
    "    axes.set_ylabel('f(x)(1-f(x))')\n",
    "    axes.legend()\n",
    "    \n",
    "    return axes"
   ]
  },
  {
   "cell_type": "code",
   "execution_count": null,
   "metadata": {
    "deletable": false,
    "editable": false,
    "nbgrader": {
     "cell_type": "code",
     "checksum": "96dd44755ab59315b9c708057c7f0340",
     "grade": false,
     "grade_id": "Task_2_2_test",
     "locked": true,
     "schema_version": 3,
     "solution": false
    }
   },
   "outputs": [],
   "source": [
    "axes = Plot_first_derivative()\n"
   ]
  },
  {
   "cell_type": "markdown",
   "metadata": {
    "deletable": false,
    "editable": false,
    "nbgrader": {
     "cell_type": "markdown",
     "checksum": "ce5d43f7b3f6932f39d28a23ce28326e",
     "grade": false,
     "grade_id": "Task_2_3_text",
     "locked": true,
     "schema_version": 3,
     "solution": false
    }
   },
   "source": [
    "<a id='LoadDataset'></a>\n",
    "<div class=\" alert alert-info\">\n",
    "    <b>Demo.</b> Plotting Curves. \n",
    "    </div>\n",
    "    \n",
    "    The following code snippet demonstrates how to plot multiple curves in the same figure."
   ]
  },
  {
   "cell_type": "code",
   "execution_count": null,
   "metadata": {
    "deletable": false,
    "editable": false,
    "nbgrader": {
     "cell_type": "code",
     "checksum": "dba7387b8f3b939b410a4e9d9af555cc",
     "grade": false,
     "grade_id": "Task_2_3_code",
     "locked": true,
     "schema_version": 3,
     "solution": false
    }
   },
   "outputs": [],
   "source": [
    "#Example on how to plot multiple functions in the same graph\n",
    "\n",
    "range_x = np.arange(-5 , 5 , 0.01)\n",
    "\n",
    "def straight_line1(x):\n",
    "    f_x = 3*x +2\n",
    "    return f_x\n",
    "\n",
    "def straight_line2(x):\n",
    "    f_x = x +5\n",
    "    return f_x\n",
    "\n",
    "def straight_line3(x):\n",
    "    f_x = -5*x +1\n",
    "    return f_x\n",
    "\n",
    "f_x1 = straight_line1(range_x)\n",
    "f_x2 = straight_line2(range_x)\n",
    "f_x3 = straight_line3(range_x)\n",
    "\n",
    "#plt.plot() for every function\n",
    "plt.plot(range_x,f_x1, label='straight_line1') \n",
    "plt.plot(range_x,f_x2, label='straight_line2')\n",
    "plt.plot(range_x,f_x3, label='straight_line3')\n",
    "plt.xlabel('x')\n",
    "plt.ylabel('f(x)')\n",
    "\n",
    "plt.legend()\n",
    "plt.show() #plt.show() must be called once, and after plt.plot()"
   ]
  },
  {
   "cell_type": "markdown",
   "metadata": {
    "deletable": false,
    "editable": false,
    "nbgrader": {
     "cell_type": "markdown",
     "checksum": "5299a82860e866e8577318680f9770f4",
     "grade": false,
     "grade_id": "Reading_in_data_text",
     "locked": true,
     "schema_version": 3,
     "solution": false
    }
   },
   "source": [
    "## 3. Reading in Data\n",
    "<a id=\"Q3\"></a>\n",
    "\n",
    "We now demonstrate how to use the `pandas` package to read in data from csv files or from the internet (such as [Wikidata](https://www.wikidata.org/wiki/Wikidata:Main_Page)). We will also demonstrate how to use the `matplotlib.pyplot` library to create scatter plots.  \n",
    "\n",
    "Hint: You can find more information about the `pandas` package under this [link](http://pandas.pydata.org/pandas-docs/stable/)\n"
   ]
  },
  {
   "cell_type": "markdown",
   "metadata": {
    "deletable": false,
    "editable": false,
    "nbgrader": {
     "cell_type": "markdown",
     "checksum": "ca1107f150d410101ec95b49e6af1733",
     "grade": false,
     "grade_id": "Task_3_1_text",
     "locked": true,
     "schema_version": 3,
     "solution": false
    }
   },
   "source": [
    "<a id='LoadDataset'></a>\n",
    "<div class=\" alert alert-warning\">\n",
    "    <b>Student Task.</b> Load Data from File. \n",
    "    </div>\n",
    "\n",
    "- Implement a Python function `X, m, n=LoadData(filename)` which reads in the filename of a csv file as input parameter. The function should return three ouput parameters: a matrix $\\mathbf{X} =\\big(\\mathbf{x}^{(1)},\\ldots,\\mathbf{x}^{(m)}\\big)^{T}$ whose rows are the feature vectors $\\mathbf{x}^{(i)} \\in \\mathbb{R}^{n}$ which are stored in the rows of the csv file, the sample size (total number of rows in the csv file) $m$ and the feature length $n$. \n"
   ]
  },
  {
   "cell_type": "code",
   "execution_count": null,
   "metadata": {
    "deletable": false,
    "nbgrader": {
     "cell_type": "code",
     "checksum": "2f4b6d5afecf8fd4d28765b479e4051b",
     "grade": false,
     "grade_id": "Task_3_1_code",
     "locked": false,
     "schema_version": 3,
     "solution": true
    }
   },
   "outputs": [],
   "source": [
    "def LoadData(filename):\n",
    "    \"\"\"\n",
    "    Load the dataframe reading the file with the filename given as a parameter.\n",
    "    Print the sample size m and the feature length n.\n",
    "\n",
    "    :input: String path to the file\n",
    "\n",
    "    :return: numpy array of shape=(m, n), the sample size m and the feature length n    \n",
    "    \"\"\"\n",
    "\n",
    "    df = pd.read_csv(filename)\n",
    "    X = df.values # convert the data frame to numpy array\n",
    "\n",
    "    #n = ...\n",
    "    #m = ...\n",
    "    #print('sample size m=',...)\n",
    "    #print('feature length n=',...)\n",
    "    # YOUR CODE HERE\n",
    "    raise NotImplementedError()\n",
    "\n",
    "    return X, m, n"
   ]
  },
  {
   "cell_type": "code",
   "execution_count": null,
   "metadata": {
    "deletable": false,
    "editable": false,
    "nbgrader": {
     "cell_type": "code",
     "checksum": "1124e65e0c502dcacc66d7620eb635af",
     "grade": true,
     "grade_id": "Task_3_1_test",
     "locked": true,
     "points": 1,
     "schema_version": 3,
     "solution": false
    }
   },
   "outputs": [],
   "source": [
    "X, m, n = LoadData(\"Data.csv\")\n",
    "assert X.shape == (600,2), f'Expected dataframe to be of different size than {df.shape}'\n",
    "\n",
    "\n",
    "print(\"Sanity checks passed! Some hidden tests may still fail.\")"
   ]
  },
  {
   "cell_type": "markdown",
   "metadata": {
    "deletable": false,
    "editable": false,
    "nbgrader": {
     "cell_type": "markdown",
     "checksum": "0122a2f5db8fc200de427dc5f072e48b",
     "grade": false,
     "grade_id": "Task_3_2_text",
     "locked": true,
     "schema_version": 3,
     "solution": false
    }
   },
   "source": [
    "<a id='Scatterplots'></a>\n",
    "\n",
    "<div class=\" alert alert-info\">\n",
    " \n",
    " <b>Demo.</b> Scatterplots. \n",
    "  </div>  \n",
    " \n",
    "The following code snippet implements the function `axes=ScatterPlots()` that returns an axes object which contains two scatterplots: \n",
    "- one scatter plot depicting the feature vectors stored in \"Data.csv\"\n",
    "\n",
    "- one scatter plot depicting the feature vectors stored in \"Data.csv\" but divided into 3 subsets corresponding to the first 200, the second 200, and the last 200 rows in \"Data.csv\". This second scatter plot uses different colors for the (feature vectors from) different subsets.\n"
   ]
  },
  {
   "cell_type": "code",
   "execution_count": null,
   "metadata": {
    "deletable": false,
    "editable": false,
    "nbgrader": {
     "cell_type": "code",
     "checksum": "0ef7a1a1b516c0578175ddeb2196d143",
     "grade": false,
     "grade_id": "Task_3_2_code",
     "locked": true,
     "schema_version": 3,
     "solution": false
    }
   },
   "outputs": [],
   "source": [
    "def ScatterPlots():\n",
    "    \"\"\"\n",
    "    Plot the scatterplot of all the data, then plot the scatterplot of the 3 subsets,\n",
    "    each one with a different color\n",
    "\n",
    "    return: axes object used for testing, containing the 2 scatterplots.    \n",
    "    \"\"\"\n",
    "\n",
    "    fig, axes = plt.subplots(1, 2, figsize=(15, 5)) #used only for testing purpose\n",
    "    data, _, _, = LoadData(\"Data.csv\")                # load data from csv file\n",
    "\n",
    "    colors = ['r', 'g', 'b']\n",
    "\n",
    "    axes[0].scatter(data[:,0],data[:,1], label='All data')\n",
    "    axes[0].legend()\n",
    "    axes[1].scatter(data[0:200,0],data[0:200,1], c=colors[0], label='first 200 data')\n",
    "    axes[1].scatter(data[200:400,0],data[200:400,1], c=colors[1], label='second 200 data')\n",
    "    axes[1].scatter(data[400:600,0],data[400:600,1], c=colors[2], label='third 200 data')\n",
    "    axes[1].legend()\n",
    "\n",
    "    return axes"
   ]
  },
  {
   "cell_type": "code",
   "execution_count": null,
   "metadata": {
    "deletable": false,
    "editable": false,
    "nbgrader": {
     "cell_type": "code",
     "checksum": "da302ff48b29f76c067b66a678277d53",
     "grade": false,
     "grade_id": "Task_3_2_test",
     "locked": true,
     "schema_version": 3,
     "solution": false
    }
   },
   "outputs": [],
   "source": [
    "axes = ScatterPlots()"
   ]
  },
  {
   "cell_type": "markdown",
   "metadata": {
    "deletable": false,
    "editable": false,
    "nbgrader": {
     "cell_type": "markdown",
     "checksum": "d74134bd454da433ddb4ecc9432969e3",
     "grade": false,
     "grade_id": "Task_3_3_text",
     "locked": true,
     "schema_version": 3,
     "solution": false
    }
   },
   "source": [
    "<a id='wikidata'></a>\n",
    "<div class=\" alert alert-info\">\n",
    "    <b>Demo.</b> Query wikidata.org. \n",
    "    </div>\n",
    "\n",
    "The code snippet below shows how to access https://www.wikidata.org/ in order to obtain current statistics about countries belonging to the European Union (EU). Beside reading in data from wikidata, the code below also shows how to handle (impute) missing data (\"NaN\"). In order to fill missing data fields, different methods can be used. The basic idea of those methods is to interpolate between similar data points. The code below implements a simple interpolation by using the mean of all known values of some property.  \n",
    "\n",
    "Hint: \n",
    "\n",
    "- You can find more information on how to query wikidata under [this link.](https://www.wikidata.org/wiki/Wikidata:SPARQL_query_service/A_gentle_introduction_to_the_Wikidata_Query_Service)\n",
    "- You can find more information on coping with missing data using imputation under [this link.](http://www.paultwin.com/wp-content/uploads/Lodder_1140873_Paper_Imputation.pdf)\n",
    "- Python provides several methods for data imputation ([see here](https://pandas.pydata.org/pandas-docs/stable/reference/api/pandas.DataFrame.fillna.html))"
   ]
  },
  {
   "cell_type": "code",
   "execution_count": null,
   "metadata": {
    "deletable": false,
    "editable": false,
    "nbgrader": {
     "cell_type": "code",
     "checksum": "dd360be8fac0b31c5141307f3516b7b4",
     "grade": false,
     "grade_id": "wikidata",
     "locked": true,
     "schema_version": 3,
     "solution": false
    }
   },
   "outputs": [],
   "source": [
    "import requests\n",
    "import pandas as pd\n",
    "from collections import OrderedDict\n",
    "import matplotlib.pyplot as plt\n",
    "\n",
    "# E.g. read in key figures (gdp, average age, population, ...) of all countries.\n",
    "# only EU countries: ?country wdt:P463 wd:Q458\n",
    "\n",
    "url = 'https://query.wikidata.org/sparql'\n",
    "query = \"\"\"\n",
    "SELECT\n",
    "  ?countryLabel ?population ?area ?medianIncome ?age ?nominalGDP\n",
    "WHERE {\n",
    "  ?country wdt:P463 wd:Q458\n",
    "  OPTIONAL { ?country wdt:P1082 ?population }\n",
    "  OPTIONAL { ?country wdt:P2046 ?area }\n",
    "  OPTIONAL { ?country wdt:P3529 ?medianIncome }\n",
    "  OPTIONAL { ?country wdt:P571 ?inception.\n",
    "    BIND(year(now()) - year(?inception) AS ?age)\n",
    "  }\n",
    "  OPTIONAL { ?country wdt:P2131 ?nominalGDP}\n",
    "  SERVICE wikibase:label { bd:serviceParam wikibase:language \"en\". }\n",
    "}\n",
    "\"\"\"\n",
    "\n",
    "r = requests.get(url, params={'format': 'json', 'query': query}) #execute the query\n",
    "data = r.json()\n",
    "\n",
    "countries = []\n",
    "#cleans the data because some values are missing\n",
    "for item in data['results']['bindings']:\n",
    "    countries.append(OrderedDict({'country': item['countryLabel']['value'],\n",
    "'population': item['population']['value']\n",
    "    if 'population' in item else None,\n",
    "'area': item['area']['value']\n",
    "    if 'area' in item else None,\n",
    "'medianIncome': item['medianIncome']['value']\n",
    "    if 'medianIncome' in item else None,\n",
    "'age': item['age']['value']\n",
    "    if 'age' in item else None,\n",
    "'nominalGDP': item['nominalGDP']['value']\n",
    "    if 'nominalGDP' in item else None}))\n",
    "\n",
    "df_wikidata=pd.DataFrame(countries)\n",
    "df_wikidata.set_index('country', inplace=True)\n",
    "df_wikidata=df_wikidata.astype({'population': float, 'area': float, 'medianIncome': float, 'age': float, 'nominalGDP': float})\n",
    "df_wikidata=df_wikidata.astype({'area': float, 'medianIncome': float, 'age': float, 'nominalGDP': float})\n",
    "\n",
    "df_wikidata.fillna(df_wikidata.mean(), inplace=True)   # replace missing data \"Nan\" with means \n",
    "data_wikidata = df_wikidata.values[:,0:2]              # needed for Task5 only \n",
    "\n",
    "print(df_wikidata)"
   ]
  },
  {
   "cell_type": "markdown",
   "metadata": {
    "deletable": false,
    "editable": false,
    "nbgrader": {
     "cell_type": "markdown",
     "checksum": "9da2d2e84771c7696abd4c2be6cf41b6",
     "grade": false,
     "grade_id": "Eigenvectors_text",
     "locked": true,
     "schema_version": 3,
     "solution": false
    }
   },
   "source": [
    "## 4. Eigenvectors\n",
    "<a id=\"Q4\"></a>\n",
    "\n",
    "Consider a dataset containing $m$ feature vectors $\\mathbf{x}^{(1)},...,\\mathbf{x}^{(m)} \\in \\mathbb{R}^{n}$ \n",
    "which we stack into the feature matrix $\\mathbf{X}=(\\mathbf{x}^{(1)},\\ldots,\\mathbf{x}^{(m)})^{T} \\in \\mathbb{R}^{m \\times n}$. In order to characterize the intrinsic geometry of this dataset it is useful to compute the sample covariance \n",
    "matrix \n",
    "\n",
    "$$\\mathbf{C} = (1/m) \\mathbf{X}^{T} \\mathbf{X}.$$ \n",
    "\n",
    "The entries of the matrix $\\mathbf{C}$ are the scaled inner products $(1/m) \\big( \\mathbf{x}^{(i)} \\big)^{T} \\mathbf{x}^{(j)}$ between two feature vectors. The matrix $\\mathbf{C}$ is positive semidefinite (psd) since \n",
    "\n",
    "$$\\mathbf{w}^{T}\\mathbf{C}\\mathbf{w} = (1/m) \\mathbf{w}^{T} \\mathbf{X}^{T} \\mathbf{X} \\mathbf{w} = (1/m) \\|\\mathbf{X} \\mathbf{x} \\|^{2} \\geq 0 \\mbox{ for any vector }\\mathbf{w} \\in \\mathbb{R}^{n}.$$ \n",
    "\n",
    "As a psd matrix, we can decompose $\\mathbf{C}$ into three factors \n",
    "\n",
    "$$\\mathbf{C} = \\mathbf{U} {\\bf \\mathbf{\\Lambda}} \\mathbf{U}^{T}.$$ \n",
    "\n",
    "The matrix $\\mathbf{U}=\\big(\\mathbf{u}^{(1)},\\ldots,\\mathbf{u}^{(n)}\\big)$ is orthonormal (i.e., $\\mathbf{U}^{T}\\mathbf{U}=\\mathbf{I}$) \n",
    "and its columns $\\mathbf{u}^{(1)},\\ldots,\\mathbf{u}^{(n)}$ are eigenvectors of $\\mathbf{C}$. The matrix ${\\mathbf{\\Lambda}}$ is diagonal having the eigenvalues $\\lambda_{1}\\geq\\lambda_{2}\\geq \\ldots \\geq \\lambda_{n}$ of $\\mathbf{C}$ on the main diagonal. The above decomposition is also known as the eigenvalue decomposition of the matrix $\\mathbf{C}$.  \n",
    " \n",
    " \n",
    "Hints:\n",
    "\n",
    "- The eigenvector $\\mathbf{u}^{(1)}$ (corresponding to the largest eigenvalue $\\lambda_{1}$) should indicate the direction into which the dataset spreads the most.\n",
    "- Computing eigenvalues and eigenvectors will be required in a later exercise on dimensionality reduction.   \n",
    "- You can find more information about eigenvalue decomposition under [this link](http://math.mit.edu/~gs/linearalgebra/ila0601.pdf) and about the interpretation of the covariance matrix under [this link](http://www.visiondummy.com/2014/04/geometric-interpretation-covariance-matrix/)"
   ]
  },
  {
   "cell_type": "markdown",
   "metadata": {
    "deletable": false,
    "editable": false,
    "nbgrader": {
     "cell_type": "markdown",
     "checksum": "91728f9d673738014072ab789f1061ef",
     "grade": false,
     "grade_id": "Task_4_1_text",
     "locked": true,
     "schema_version": 3,
     "solution": false
    }
   },
   "source": [
    "<a id='LoadAndScatter'></a>\n",
    "<div class=\" alert alert-warning\">\n",
    "    <b>Student Task.</b> Load and Visualize Data. \n",
    "    </div>\n",
    "\n",
    "Implement a Python function `X, axes = LoadDataAndScatter(filename)` which reads in the filename of a csv file. The function should return all the feature vectors $\\mathbf{x}^{(i)} \\in \\mathbb{R}^{n}$ stored in the rows of the file \"DataTask4.csv\" and generates a scatter plot of them contained in the axes object."
   ]
  },
  {
   "cell_type": "code",
   "execution_count": null,
   "metadata": {
    "deletable": false,
    "nbgrader": {
     "cell_type": "code",
     "checksum": "ffc536d30a05a3fcbae9150a9a453d7b",
     "grade": false,
     "grade_id": "Task_4_1_code",
     "locked": false,
     "schema_version": 3,
     "solution": true
    }
   },
   "outputs": [],
   "source": [
    "def LoadDataAndScatter(filename):\n",
    "    \"\"\"\n",
    "    Load the data contained in the file DataTask4.csv and generate a scatterplot \n",
    "    of all the dataset.\n",
    "\n",
    "    :input: String path to the file\n",
    "\n",
    "    :return: numpy array of shape=(m, n), axes object containing the scatterplot.    \n",
    "    \"\"\"\n",
    "\n",
    "    # read in the data from \"DataTask4.csv\", you can use the function LoadData()\n",
    "    #X = ...\n",
    "    # YOUR CODE HERE\n",
    "    raise NotImplementedError()\n",
    "\n",
    "    fig, axes = plt.subplots(1, 1, figsize=(8, 8)) #used only for testing purpose\n",
    "\n",
    "    ### STUDENT TASK ###\n",
    "    # draw the scatter plot for data X\n",
    "    # YOUR CODE HERE\n",
    "    raise NotImplementedError()\n",
    "\n",
    "    plt.xlim((-4,4))\n",
    "    plt.ylim((-4,4))\n",
    "    plt.legend()\n",
    "\n",
    "    return X, axes"
   ]
  },
  {
   "cell_type": "code",
   "execution_count": null,
   "metadata": {
    "deletable": false,
    "editable": false,
    "nbgrader": {
     "cell_type": "code",
     "checksum": "032f92953d9b37f2c01ce17a99cd32ca",
     "grade": true,
     "grade_id": "Task_4_1_test",
     "locked": true,
     "points": 1,
     "schema_version": 3,
     "solution": false
    }
   },
   "outputs": [],
   "source": [
    "X, axes = LoadDataAndScatter('DataTask4.csv')\n",
    "assert X.shape == (1000,2), f'Expected dataframe to be of different size than {df.shape}'\n",
    "\n",
    "\n",
    "print(\"Sanity checks passed! Some hidden tests may still fail.\")"
   ]
  },
  {
   "cell_type": "markdown",
   "metadata": {
    "deletable": false,
    "editable": false,
    "nbgrader": {
     "cell_type": "markdown",
     "checksum": "ebec63ad8505a4179c4272c352df068d",
     "grade": false,
     "grade_id": "Task_4_2_text",
     "locked": true,
     "schema_version": 3,
     "solution": false
    }
   },
   "source": [
    "<a id='CovarianceAndEigen'></a>\n",
    "<div class=\" alert alert-warning\">\n",
    "    <b>Student Task.</b> Eigenvalue Decomposition of a Covariance Matrix.  \n",
    "    </div>\n",
    "\n",
    "Implement a Python function `C, g , U = EigenvalueDecomposition(X)` which reads in a data matrix $\\mathbf{X}=\\big(\\mathbf{x}^{(1)},\\ldots,\\mathbf{x}^{(m)}\\big)^{T}$ whose rows are feature vectors $\\mathbf{x}^{(i)} \\in \\mathbb{R}^{n}$ of $m$ data points. The function should return the \n",
    "\n",
    "- the covariance matrix $\\mathbf{C} = (1/m) \\mathbf{X}^{T} \\mathbf{X} \\in \\mathbb{R}^{n \\times n}$.\n",
    "- a vector $\\mathbf{g}=\\big(\\lambda_{1},\\ldots,\\lambda_{n}\\big)^{T} \\in \\mathbb{R}^{n}$ whose entries are the decreasingly sorted eigenvalued $\\lambda_{1} \\geq \\lambda_{2} \\geq \\ldots \\geq \\lambda_{n}$ of the matrix $\\mathbf{C}$\n",
    "- a matrix $\\mathbf{U}=\\big(\\mathbf{u}^{(1)},\\ldots,\\mathbf{u}^{(n)}\\big) \\in \\mathbb{R}^{n \\times n}$ whose columns contain the eigenvectors $\\mathbf{u}^{(i)}$ of $\\mathbf{C}$, corresponding to the eigenvalue $\\lambda_{i}$. "
   ]
  },
  {
   "cell_type": "code",
   "execution_count": null,
   "metadata": {
    "deletable": false,
    "nbgrader": {
     "cell_type": "code",
     "checksum": "c990dd00f24d230e855b22669301f89b",
     "grade": false,
     "grade_id": "Task_4_2_code",
     "locked": false,
     "schema_version": 3,
     "solution": true
    }
   },
   "outputs": [],
   "source": [
    "def EigenvalueDecomposition():\n",
    "    \"\"\"\n",
    "    Compute the covariance matrix C, eigenvectors and eigenvalues\n",
    "\n",
    "    return: The covariance matrix C of shape=(n, n), eigenvalues and eigenvectors    \n",
    "    \"\"\"\n",
    "\n",
    "    X, _, _ = LoadData('DataTask4.csv')\n",
    "\n",
    "    ### STUDENT TASK ###\n",
    "    # compute the sample covariance of data X\n",
    "    #C = ...\n",
    "    # YOUR CODE HERE\n",
    "    raise NotImplementedError()\n",
    "    #Hint: C should be a 2x2 matrix. \n",
    "\n",
    "    ### STUDENT TASK ###\n",
    "    # find eigenvalues and eigenvectors of C and print them\n",
    "    # values, vectors = ...\n",
    "    # YOUR CODE HERE\n",
    "    raise NotImplementedError()\n",
    "    print('eigenvalues= ', values)\n",
    "    print('eigenvectors= ', vectors)\n",
    "\n",
    "    return C, values, vectors"
   ]
  },
  {
   "cell_type": "code",
   "execution_count": null,
   "metadata": {
    "deletable": false,
    "editable": false,
    "nbgrader": {
     "cell_type": "code",
     "checksum": "b1b5481524dc842c4aa20baa19464c6a",
     "grade": true,
     "grade_id": "Task_4_2_test",
     "locked": true,
     "points": 1,
     "schema_version": 3,
     "solution": false
    }
   },
   "outputs": [],
   "source": [
    "C, values, vectors = EigenvalueDecomposition()\n",
    "assert C.shape == (2,2), f\"C should be a 2x2 matrix\"\n",
    "\n",
    "\n",
    "print(\"Sanity checks passed! Some hidden tests may still fail.\")"
   ]
  },
  {
   "cell_type": "markdown",
   "metadata": {
    "deletable": false,
    "editable": false,
    "nbgrader": {
     "cell_type": "markdown",
     "checksum": "ac60ffc255fdada92854069e129b8a5d",
     "grade": false,
     "grade_id": "Task_4_3_text",
     "locked": true,
     "schema_version": 3,
     "solution": false
    }
   },
   "source": [
    "<a id='PlotEigenVectors'></a>\n",
    "<div class=\" alert alert-info\">\n",
    "    <b>Demo.</b> Eigenvectors.  \n",
    "    </div>\n",
    "    \n",
    "The following code snippet indicates the eigenvectors $\\mathbf{u}^{(1)}$, $\\mathbf{u}^{(2)}$ (corresponding to the two largest eigenvalues) by drawing a line from the origin $(0,0)$ to the points given by $\\mathbf{u}^{(1)}$ and $\\mathbf{u}^{(2)} \\in \\mathbb{R}^{2}$, on top of the scatter plot with the data points.\n",
    " \n",
    "Hints:\n",
    "\n",
    "- If the same scaling is used for the horizontal and vertical axis of the scatter plot, then the eigenvectors should be perpendicular to each other. Use _plt.xlim_ and _plt.ylim_ to set the axes length. Furthermore, you can set the figure size by using _plt.figure(figsize=(8,8))_.\n"
   ]
  },
  {
   "cell_type": "code",
   "execution_count": null,
   "metadata": {
    "deletable": false,
    "editable": false,
    "nbgrader": {
     "cell_type": "code",
     "checksum": "9e1a43ff0fb060fa7da9ef5215426c9c",
     "grade": false,
     "grade_id": "Task_4_3_code",
     "locked": true,
     "schema_version": 3,
     "solution": false
    }
   },
   "outputs": [],
   "source": [
    "def PlotEigenVectors():\n",
    "    \"\"\"\n",
    "    Plot the two eigenvectors in the scatterplot plotted from the previous task\n",
    "\n",
    "    return: axes object used for testing, containing the two eigenvectors.    \n",
    "    \"\"\"\n",
    "    df, axes = LoadDataAndScatter('DataTask4.csv')    \n",
    "\n",
    "    axes.plot([0,vectors[0,1]],[0,vectors[0,0]],'r-', label='eigenvectors')\n",
    "    axes.plot([0,vectors[1,1]],[0,vectors[1,0]],'r-')\n",
    "\n",
    "    plt.legend()\n",
    "    return axes"
   ]
  },
  {
   "cell_type": "code",
   "execution_count": null,
   "metadata": {
    "deletable": false,
    "editable": false,
    "nbgrader": {
     "cell_type": "code",
     "checksum": "b3ba2da581a042560c7c838f597ea456",
     "grade": false,
     "grade_id": "Task_4_3_test",
     "locked": true,
     "schema_version": 3,
     "solution": false
    }
   },
   "outputs": [],
   "source": [
    "axes = PlotEigenVectors()"
   ]
  },
  {
   "cell_type": "markdown",
   "metadata": {
    "deletable": false,
    "editable": false,
    "nbgrader": {
     "cell_type": "markdown",
     "checksum": "bd336b53833d3fd7e0a66a61d69c66e5",
     "grade": false,
     "grade_id": "Probability_Distributions_text",
     "locked": true,
     "schema_version": 3,
     "solution": false
    }
   },
   "source": [
    "## 5. Probability Distributions\n",
    "<a id=\"Q5\"></a>\n",
    "\n",
    "In this task you are required to use the $\\textit{multivariate_normal.pdf}$ function from the _scipy.stats_ package to evaluate the probability density function $f(x)$ of a Gaussian random variable.\n",
    "\n",
    "The Gaussian distribution is important because many processes in nature and social sciences can be accurately modeled using Gaussian random variables.\n",
    "\n",
    "The pdf of a Gaussian random variable x is given by $f(x)=\\dfrac{1}{\\sqrt{(2\\pi\\sigma^2)}}{\\rm exp} \\big(-(x-\\mu)^2/(2\\sigma^{2})\\big)$ with the mean $\\mu ={\\rm E} \\{ x \\}$ and the variance $\\sigma^{2} = {\\rm E} \\{(x- \\mu)^2 \\}$. \n",
    "\n",
    "Some of the properties of the Gaussian pdf are:\n",
    "\n",
    "- It is symmetric around the point $x = \\mu$\n",
    "- The area under the curve and the x-axis is equal to one\n",
    "- 99.7% of the area under the curve is between $\\mu$ - $3\\sigma$ and $\\mu$ +$3\\sigma$\n",
    "\n",
    "Under [this link](https://docs.scipy.org/doc/scipy-0.14.0/reference/generated/scipy.stats.multivariate_normal.html) you can find more information about the Python function `multivariate_normal.pdf`. \n",
    "\n",
    "Under [this link](http://mathworld.wolfram.com/NormalDistribution.html), you can find more information about the Gaussian pdf and in [this link](https://matplotlib.org/api/_as_gen/matplotlib.pyplot.contour.html) you can find more information about `plt.contour`. \n"
   ]
  },
  {
   "cell_type": "markdown",
   "metadata": {
    "deletable": false,
    "editable": false,
    "nbgrader": {
     "cell_type": "markdown",
     "checksum": "c1116e92605d9fef9e64a8974383923c",
     "grade": false,
     "grade_id": "Task_5_1_text",
     "locked": true,
     "schema_version": 3,
     "solution": false
    }
   },
   "source": [
    "<a id='ComputeAndPlotGaussianpdf'></a>\n",
    "<div class=\" alert alert-warning\">\n",
    "    <b>Student Task.</b> Gaussian Random Variables.  \n",
    "    </div>\n",
    " \n",
    "Implement a Python function `axes = ComputeAndPlotGaussian()` which has no input parameters and returns an axes object representing the plot of the Gaussian pdf $f(x)$ in the range $x=0 ,\\ldots,5$, computed using mean $5/2$ and variance $1/2$. \n",
    " "
   ]
  },
  {
   "cell_type": "code",
   "execution_count": null,
   "metadata": {
    "deletable": false,
    "nbgrader": {
     "cell_type": "code",
     "checksum": "dddcc27f41a39f2fefa5f7a770bba33b",
     "grade": false,
     "grade_id": "Task_5_1_code",
     "locked": false,
     "schema_version": 3,
     "solution": true
    }
   },
   "outputs": [],
   "source": [
    "from scipy.stats import multivariate_normal\n",
    "\n",
    "def ComputeAndPlotGaussian():\n",
    "    \"\"\"\n",
    "    Compute and plot the Gaussian pdf for a random variable x\n",
    "\n",
    "    return: axes object used for testing, containing the Gaussian pdf plotted.    \n",
    "    \"\"\"\n",
    "\n",
    "    x = np.linspace(0, 5, 100, endpoint=False)\n",
    "\n",
    "    ### STUDENT TASK ###\n",
    "    # compute the values of the gaussian probability density function\n",
    "    # y = multivariate_normal.pdf(...)\n",
    "    # YOUR CODE HERE\n",
    "    raise NotImplementedError()\n",
    "\n",
    "    fig, axes = plt.subplots(1, 1, figsize=(15, 5)) #used only for testing purpose\n",
    "\n",
    "    ### STUDENT TASK\n",
    "    # plot the function in the range [0,5]\n",
    "    # YOUR CODE HERE\n",
    "    raise NotImplementedError()\n",
    "\n",
    "    return axes"
   ]
  },
  {
   "cell_type": "code",
   "execution_count": null,
   "metadata": {
    "deletable": false,
    "editable": false,
    "nbgrader": {
     "cell_type": "code",
     "checksum": "984216ddd955983893bb039bf4f92fa5",
     "grade": true,
     "grade_id": "Task_5_1_test",
     "locked": true,
     "points": 1,
     "schema_version": 3,
     "solution": false
    }
   },
   "outputs": [],
   "source": [
    "axes = ComputeAndPlotGaussian()\n",
    "pc = LinePlotChecker(axes)\n",
    "test_x = np.linspace(0, 5, 100, endpoint=False)\n",
    "np.testing.assert_allclose(pc.x_data[0], test_x, atol=1e-6, err_msg=\"The x values for the graph are incorrect. Don't modify the linspace line\")\n",
    "\n",
    "\n",
    "print(\"Sanity checks passed! Some hidden tests may still fail.\")"
   ]
  },
  {
   "cell_type": "markdown",
   "metadata": {
    "deletable": false,
    "editable": false,
    "nbgrader": {
     "cell_type": "markdown",
     "checksum": "311f13265ff51c67c479792160eb7e86",
     "grade": false,
     "grade_id": "Task_5_2_text",
     "locked": true,
     "schema_version": 3,
     "solution": false
    }
   },
   "source": [
    "<a id='Fit2DGaussian'></a>\n",
    "<div class=\" alert alert-info\">\n",
    "    <b>Demo.</b> Fitting a Gaussian Distribution to Data.  \n",
    "    </div>\n",
    "\n",
    "The code snippet below fits a two-dimensional Gaussian distribution to a set of data points which is read in from wikidata. "
   ]
  },
  {
   "cell_type": "code",
   "execution_count": null,
   "metadata": {
    "deletable": false,
    "editable": false,
    "nbgrader": {
     "cell_type": "code",
     "checksum": "ab34a55787cfe60965a03baea31e4ec3",
     "grade": false,
     "grade_id": "Task_5_2_code",
     "locked": true,
     "schema_version": 3,
     "solution": false
    }
   },
   "outputs": [],
   "source": [
    "#scatter plot of the wikidata population and area\n",
    "population = data_wikidata[:,0]\n",
    "area = data_wikidata[:,1]\n",
    "plt.figure(figsize=(15,8))\n",
    "plt.scatter(population, area, label='wikidata')\n",
    "\n",
    "#scaling for a better view of the data\n",
    "plt.xlim(-2e7,9e7)\n",
    "plt.ylim(-1e5,7e5)\n",
    "#compute mean and covariance matrix of data_wikidata using the formula from Task number 4 and plot\n",
    "#showing a red x as the mean in the graph\n",
    "x_mean = np.mean(population)\n",
    "y_mean = np.mean(area)\n",
    "plt.plot(x_mean, y_mean, 'rx')\n",
    "X = data_wikidata\n",
    "\n",
    "#compute the covariance matrix C = (1/m) X^T X\n",
    "C = np.matmul(np.transpose(X), X)/X.shape[0]\n",
    "\n",
    "#plot Gaussian using the mean and the covariance computed in the step before, to fit the scatterplot\n",
    "#data in the same graph as before, using the function plt.contour from matplotlibrary\n",
    "#these two values are taken looking at the population and area values \n",
    "#(lower than the minimum and higher than the maximum value)\n",
    "x = np.linspace(-12e7,9e7, 100) \n",
    "y = np.linspace(-1e5,7e5, 100)\n",
    "\n",
    "x_mesh, y_mesh = np.meshgrid(x,y)\n",
    "pos = np.array([x_mesh.flatten(),y_mesh.flatten()]).T\n",
    "z = multivariate_normal([x_mean,y_mean],C).pdf(pos)\n",
    "z = z.reshape((100,100))\n",
    "plt.contour(x_mesh,y_mesh,z,10)\n",
    "plt.xlabel('population')\n",
    "plt.ylabel('area')\n",
    "\n",
    "plt.show()"
   ]
  },
  {
   "cell_type": "code",
   "execution_count": null,
   "metadata": {},
   "outputs": [],
   "source": []
  }
 ],
 "metadata": {
  "kernelspec": {
   "display_name": "Python 3",
   "language": "python",
   "name": "python3"
  },
  "language_info": {
   "codemirror_mode": {
    "name": "ipython",
    "version": 3
   },
   "file_extension": ".py",
   "mimetype": "text/x-python",
   "name": "python",
   "nbconvert_exporter": "python",
   "pygments_lexer": "ipython3",
   "version": "3.6.5"
  },
  "varInspector": {
   "cols": {
    "lenName": 16,
    "lenType": 16,
    "lenVar": 40
   },
   "kernels_config": {
    "python": {
     "delete_cmd_postfix": "",
     "delete_cmd_prefix": "del ",
     "library": "var_list.py",
     "varRefreshCmd": "print(var_dic_list())"
    },
    "r": {
     "delete_cmd_postfix": ") ",
     "delete_cmd_prefix": "rm(",
     "library": "var_list.r",
     "varRefreshCmd": "cat(var_dic_list()) "
    }
   },
   "types_to_exclude": [
    "module",
    "function",
    "builtin_function_or_method",
    "instance",
    "_Feature"
   ],
   "window_display": false
  }
 },
 "nbformat": 4,
 "nbformat_minor": 2
}
