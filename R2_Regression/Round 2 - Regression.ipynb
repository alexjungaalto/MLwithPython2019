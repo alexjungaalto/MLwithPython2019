{
 "cells": [
  {
   "cell_type": "markdown",
   "metadata": {
    "deletable": false,
    "editable": false,
    "nbgrader": {
     "cell_type": "markdown",
     "checksum": "7cd27935d9976c4ab98874c2e27f5af1",
     "grade": false,
     "grade_id": "cell-0ef3a793cfc0e37b",
     "locked": true,
     "schema_version": 3,
     "solution": false
    }
   },
   "source": [
    "# Machine Learning with Python - Regression\n",
    "\n",
    "\n",
    "## Learning goals\n",
    "\n",
    "In this exercise you will learn how to use **linear regression** to predict a quantity of interest (a \"label\") based on data. The implementation of linear regression amounts to the minimization of a cost (or objective) function, which is known as **the empirical risk**. The empirical risk measures the error of a particular predictor when applied to some labeled data points (the **training data**) for which we know the correct value of the quantity of interest. \n",
    "\n",
    "You will hear about **gradient descent (GD)** which is a simple but powerful algorithm for finding the predictor which achieves the smallest possible empirical risk. Some variants of GD (such as \"stochastic GD\") underlie many state-of-the art ML methods (such as deep learning). A good understanding of GD is therefore a worthy asset for an ML engineer. We will also demonstrate how to generalize the basic linear regression model using a **feature mapping** to obtain **polynomial regression**. \n",
    "\n",
    "(Hint: You might reuse parts of the code developed in this notebook in other notebooks during this course.)\n",
    "\n",
    "## Contents\n",
    "\n",
    "1. Introduction\n",
    "2. Data\n",
    "3. Exercises\n",
    "    * [3.1 Hands on the data](#3.1-Getting-Hands-on-the-Data)\n",
    "    * [3.2 Scatterplots](#3.2-Scatterplots)\n",
    "    * [3.3 Linear Regression](#3.3-Linear-Regression)\n",
    "    * [3.4 Polynomial Regression](#3.4-Polynomial-Regression)\n",
    "    * [3.5 Gradient Descent](#3.5-Gradient-Descent)\n",
    "\n",
    "    \n",
    "## Keywords\n",
    "\n",
    "`Linear Regression`, `Gradient Descent (GD)`, `Mean Squared Error (MSE)`, `Empirical Risk Minimization (ERM)`, `Polynomial Regression`,`Data Visualization`\n",
    "\n",
    "## Relevant Sections in [Course Book](https://arxiv.org/abs/1805.05052)  \n",
    "\n",
    "Section 2; Section 3.1-3.2; Section 4, Section 5 \n",
    "\n",
    "\n",
    "\n",
    "## 1 Introduction\n",
    "\n",
    "In this exercise we will apply __linear regression__ to explore the dependencies between the __gross domain product (GDP)__ and the average __life expectancy__ of a country. In particular, we will try to predict life expectancy of the population based on the GDP of a country. Some background information on the concept of GDP and GDP per capita can be found here: https://www.investopedia.com/terms/p/per-capita-gdp.asp\n",
    "\n",
    "Additional information on the Python packages used in this exercise can be found here:\n",
    "\n",
    "- [NumPy](http://cs231n.github.io/python-numpy-tutorial/)\n",
    "- [matplotlib](https://matplotlib.org/tutorials/index.html#introductory) \n",
    "- [Pandas](https://pandas.pydata.org/pandas-docs/stable/getting_started/10min.html#min)\n",
    "\n",
    "\n",
    "## 2 The Data\n",
    "\n",
    "In order to learn a predictor for the life expectancy $y$ based on the GDP $x$ of a country, we use data from wikidata.org. For your convenience, we have already downloaded some data and stored in the file **country_wikidata.csv**. This file contains country names, population, average life expectancy and GDP. The following code snippet provides you some basic tools for reading in data from a file and how to visualize this data.\n",
    "\n",
    "### Hints\n",
    "\n",
    "- A **comma separated values (CSV)** file is a plain text file that contains a data with columns separated by a delimiter such as a comma \",\".\n"
   ]
  },
  {
   "cell_type": "code",
   "execution_count": null,
   "metadata": {
    "deletable": false,
    "editable": false,
    "nbgrader": {
     "cell_type": "code",
     "checksum": "741058b07281a6f76a6062b32b2f35c8",
     "grade": false,
     "grade_id": "cell-b41dbb88d89db329",
     "locked": true,
     "schema_version": 3,
     "solution": false
    }
   },
   "outputs": [],
   "source": [
    "# import \"Pandas\" library/package (and use shorthand \"pd\" for the package) \n",
    "# Pandas provides functions for loading (storing) data from (to) files\n",
    "import pandas as pd  \n",
    "\n",
    "# import and define shorthand \"plt\" for \"pyplot\" package \n",
    "# pyplot provides functions for plotting data\n",
    "from matplotlib import pyplot as plt \n",
    "\n",
    "# import and \"IPython.display\" package for printing tables\n",
    "from IPython.display import display, HTML\n",
    "\n",
    "# import and define shorthand \"np\" for \"numpy\" package \n",
    "# numpy is a widely used package for vector/matrix operations \n",
    "import numpy as np   \n",
    "\n",
    "#read in data from csv file\n",
    "df_country = pd.read_csv(\"country_wikidata.csv\", delimiter=\",\")\n",
    "\n",
    "## Show top 5 rows and last 5 of the file country_wikidata.csv\n",
    "# function \"display()\" is Python command to show multiple function outputs from one cell. \n",
    "display(HTML(df_country.head(5).to_html(max_rows=5)))\n",
    "display(HTML(df_country.tail(5).to_html(max_rows=5)))"
   ]
  },
  {
   "cell_type": "markdown",
   "metadata": {
    "deletable": false,
    "editable": false,
    "nbgrader": {
     "cell_type": "markdown",
     "checksum": "2c0b38ab9a302248cc4fda6e86db15a8",
     "grade": false,
     "grade_id": "cell-007ebcbadc6ef155",
     "locked": true,
     "schema_version": 3,
     "solution": false
    }
   },
   "source": [
    "## 3 Exercise\n",
    "\n",
    "We now define an ML problem using data points $\\mathbf{z}$ which represent individual countries. In particular, we will use the GDP (per capita) as the single feature $x$ which characterizes a data point $\\mathbf{z}$ (country). The label $y$ of a data point (country) is defined as the average life expectancy of people living in that country. We aim at learning a predictor $h(x)$ which accurately estimates the life expectancy such that $h(x) \\approx y$. \n",
    "\n",
    "The actual exercise starts from here and it has been divided into 5 parts:\n",
    "\n",
    "* [3.1 Hands on the data](#3.1-Getting-Hands-on-the-Data)\n",
    "* [3.2 Scatterplots](#3.2-Scatterplots)\n",
    "* [3.3 Linear Regression](#3.3-Linear-Regression)\n",
    "* [3.4 Polynomial Regression](#3.4-Polynomial-Regression)\n",
    "* [3.5 Gradient Descent](#3.5-Gradient-Descent)\n",
    "\n",
    "Your task is to implement the student task, which will be under a yellow box in each part.\n",
    "\n",
    "## 3.1 Getting Hands on the Data\n",
    "\n",
    "In order to learn (or find) a good predictor $h(x)$ which provides an estimate of the life expectancy $y$ based on the GDP $x$ of a country, we make use of the data stored in the file `country_wikidata.csv`. This file contains a labeled dataset $\\mathbb{X} = \\{\\big(x^{(i)},y^{(i)}\\big) \\}_{i=1}^{m}$ which we will use to learn an accurate predictor $h(x)$ for the life expectancy. The dataset $\\mathbb{X}$ consists of data points $z^{(i)} =\\big(x^{(i)},y^{(i)}\\big)$, for $i=1,\\ldots,m$, with the feature $x^{(i)}$ being the GDP of country $i$. The quantity of interest (the label) $y^{(i)}$ is the life expectancy of country $i$. We would like to predict the life expectancy $y^{(i)}$ of a country based solely from its GDP $x^{(i)}$.\n",
    "\n",
    "<a id='handsondata'></a>\n",
    "<div class=\" alert alert-info\">\n",
    "    <b>Demo.</b> Loading the Data. \n",
    "    </div>\n",
    "\n",
    "The following code snippet\n",
    "\n",
    "1. reads in the country data from the csv file `country_wikidata.csv`\n",
    "2. removes rows with missing data (\"NaN\" fields)\n",
    "3. creates a dataframe with column named \"GDP_per_capita\" (this is calculated as GDP_PPP / population)\n",
    "4. sorts the rows in the dataframe in ascending order based on the newly created column \"GDP_per_capita\""
   ]
  },
  {
   "cell_type": "code",
   "execution_count": null,
   "metadata": {
    "deletable": false,
    "editable": false,
    "nbgrader": {
     "cell_type": "code",
     "checksum": "06074a53f7cb14440ad2a175de457279",
     "grade": false,
     "grade_id": "cell-7522fed1708c99c2",
     "locked": true,
     "schema_version": 3,
     "solution": false
    }
   },
   "outputs": [],
   "source": [
    "# import libraries required in this exercise\n",
    "\n",
    "import pandas as pd\n",
    "from   matplotlib import pyplot as plt\n",
    "import numpy as np\n",
    "from   IPython.display import display\n",
    "\n",
    "# read in data from \"country_wikidata.csv\" into the dataframe \"df_country\"\n",
    "df_country = pd.read_csv(\"country_wikidata.csv\", delimiter=\",\")\n",
    "\n",
    "# remove all rows with missing data (\"drop NaN fields\")\n",
    "df_country = df_country.dropna()\n",
    "\n",
    "# normalize GDP by population of country \n",
    "df_country['GDP_per_capita'] = df_country['GDP_PPP']/df_country['population']\n",
    "\n",
    "# sort rows in data frame according to GDP values \n",
    "df_country = df_country.sort_values(by=['GDP_per_capita'])"
   ]
  },
  {
   "cell_type": "markdown",
   "metadata": {
    "deletable": false,
    "editable": false,
    "nbgrader": {
     "cell_type": "markdown",
     "checksum": "785c6d611da1be5811681c72a85f7762",
     "grade": false,
     "grade_id": "cell-b85dc13f39e40ddd",
     "locked": true,
     "schema_version": 3,
     "solution": false
    }
   },
   "source": [
    "## 3.2 Scatterplots\n",
    "\n",
    "Scatter plots are a helpful tool to visualize data points by representing them as \"dots\" in the two-dimensional plane. In particular, scatter plots can help to develop an intuition for  the relation between features and labels of data points. \n",
    "### Student Tasks\n",
    "\n",
    "- 3.2.1 [Scatterplot](#scatterplot)\n",
    "\n",
    "<a id='scatterplot'></a>\n",
    "    <div class=\" alert alert-warning\"><b>Student Task</b> - Scatterplot\n",
    "\n",
    "Generate a scatter plot using the Python function `plt.scatter()`.\n",
    "- The x-axis of the scatter plot represents the values of the GDP $x^{(i)}$ and y-axis represents the life expectancy $y^{(i)}$ of country $i$.\n",
    "    </div>\n",
    "    "
   ]
  },
  {
   "cell_type": "code",
   "execution_count": null,
   "metadata": {
    "deletable": false,
    "editable": false,
    "nbgrader": {
     "cell_type": "code",
     "checksum": "123359697e0b8e11e03995f4fb45935b",
     "grade": false,
     "grade_id": "cell-b13e791dea312bf6",
     "locked": true,
     "schema_version": 3,
     "solution": false
    }
   },
   "outputs": [],
   "source": [
    "# convert data to numpy vectors/matrices to make matrix multiplication easier\n",
    "x_data = df_country['GDP_per_capita'].values\n",
    "y_data = df_country['life_expectancy'].values"
   ]
  },
  {
   "cell_type": "code",
   "execution_count": null,
   "metadata": {
    "deletable": false,
    "nbgrader": {
     "cell_type": "code",
     "checksum": "0314b4f45746e94353d7e4b484f31222",
     "grade": false,
     "grade_id": "cell-9e4c40988deb13df",
     "locked": false,
     "schema_version": 3,
     "solution": true
    }
   },
   "outputs": [],
   "source": [
    "#x = ...\n",
    "#y = ...\n",
    "# YOUR CODE HERE\n",
    "raise NotImplementedError()\n",
    "\n",
    "plt.scatter(x, y)\n",
    "plt.title(r'$\\bf{Figure\\ 3.}$GDP vs. life expectancy')\n",
    "plt.xlabel('GDP')\n",
    "plt.ylabel('life expectancy')\n",
    "axis = plt.gca()\n",
    "plt.show()"
   ]
  },
  {
   "cell_type": "code",
   "execution_count": null,
   "metadata": {
    "deletable": false,
    "editable": false,
    "nbgrader": {
     "cell_type": "code",
     "checksum": "004d9b4ab6345a1c603611b5122a5606",
     "grade": true,
     "grade_id": "cell-e2b94b870e5dc954",
     "locked": true,
     "points": 1,
     "schema_version": 3,
     "solution": false
    }
   },
   "outputs": [],
   "source": [
    "# Check that plot is a scatterplot. Requires plotchecker\n",
    "from plotchecker import ScatterPlotChecker\n",
    "pc = ScatterPlotChecker(axis)\n",
    "assert len(pc.x_data) == 176, \"Matrix dimensions are wrong\"\n",
    "assert len(pc.y_data) == 176, \"Matrix dimensions are wrong\"\n",
    "print('Sanity check tests passed!')\n"
   ]
  },
  {
   "cell_type": "markdown",
   "metadata": {
    "deletable": false,
    "editable": false,
    "nbgrader": {
     "cell_type": "markdown",
     "checksum": "aac6925b31b5daa20f899719fbf28924",
     "grade": false,
     "grade_id": "cell-ba1d8078dc67137d",
     "locked": true,
     "schema_version": 3,
     "solution": false
    }
   },
   "source": [
    "## 3.3 Linear Regression \n",
    "\n",
    "Our goal is to predict the life expectancy $y^{(i)}$ for country $i$ based on the GDP $x^{(i)}$ of that country. Within linear regression, we try to do this prediction using linear functions which belong to the hypothesis space\n",
    "\n",
    "\\begin{equation*}\n",
    " \\mathcal{H} = \\{h^{(\\mathbf{w})}(\\mathbf{x}) = \\mathbf{w}^{T} \\mathbf{x} \\mbox{ for some } \\mathbf{w} \\in \\mathbb{R}^{2}\\}.\n",
    "\\label{eq1}\n",
    "\\tag{1}\n",
    "\\end{equation*}\n",
    "\n",
    "In particular, we try to predict (or approximate) $y^{(i)}$ by the function value $h^{(\\mathbf{w})}(\\mathbf{x}^{(i)}) = \\mathbf{w}^{T}\\mathbf{x}^{(i)}$ using the augmented feature vector $\\mathbf{x}^{(i)} = (x^{(i)},1)^{T}$ and some weight vector $\\mathbf{w} \\in \\mathbb{R}^{2}$. At first sight, it seems strange to add a constant one to each feature value $x^{(i)}$ (the GDP of country $i$). However, using augmented feature vectors enlarges the class of functions $h^{(\\mathbf{w})}$ which can be used for the prediction.\n",
    "\n",
    "The prediction $h^{(\\mathbf{w})}(\\mathbf{x}^{(i)})$ will typically incur a non-zero __prediction error__ $y^{(i)} - h^{(\\mathbf{w})}(\\mathbf{x}^{(i)})$, which we quantify using its square $(y^{(i)} - h^{(\\mathbf{w})}(\\mathbf{x}^{(i)})^2$ (squared error loss). Since we have $m$ data points $(x^{(i)},y^{(i)})$ available, we can compute the __empirical risk__ (average loss)\n",
    "\\begin{equation*}\n",
    " \\mathcal{E} (\\mathbf{w}) = \\Big(\\frac{1}{m}\\Big) \\sum^{m}_{i=1}(y^{(i)} - \\mathbf{w}^{T} \\mathbf{x}^{(i)})^2.\n",
    "\\label{eq2}\n",
    "\\tag{2}\n",
    "\\end{equation*}\n",
    "\n",
    "\n",
    "Our goal is to find the optimal predictor $h_{\\rm opt}(\\cdot)$: \n",
    "\\begin{equation}\n",
    "h_{\\rm opt}(\\cdot) = \\underset{{h^{(\\mathbf{w})}} \\in \\mathcal{H}}{\\operatorname{argmin}} \\mathcal{E} (\\mathbf{w}).\n",
    "\\label{eq3}\n",
    "\\tag{3}\n",
    "\\end{equation}\n",
    "\n",
    "Since every function $h^{(\\mathbf{w})}(\\mathbf{x}) \\in \\mathcal{H}$ corresponds to a particular weight vector $\\mathbf{w} \\in \\mathbb{R}^{2}$. We can rewrite the optimization problem (Eq. \\ref{eq3}) as an optimization problem for the weight vector: \n",
    "\\begin{align}\n",
    "\\mathbf{w}_{\\rm opt} &= \\underset{ \\mathbf{w} \\in \\ \\mathbb{R}^{2}}{\\operatorname{argmin}} \\Bigg\\{ \\Big(\\frac{1}{m}\\Big) \\sum^{m}_{i=1}(y^{(i)} - \\mathbf{w}^{T} \\mathbf{x}^{(i)})^2 \\Bigg\\}\\\\\n",
    "&= \\underset{ \\mathbf{w} \\in \\ \\mathbb{R}^{2}}{\\operatorname{argmin}} \\Big(\\frac{1}{m}\\Big) {||\\mathbf{y}-\\mathbf{X}\\mathbf{w}||}_2^2,\n",
    "\\label{eq4}\n",
    "\\tag{4}\n",
    "\\end{align}\n",
    "where\n",
    "\\begin{align}\n",
    "\\mathbf{X} = \\big(\\mathbf{x}^{(1)},\\ldots,\\mathbf{x}^{(m)}\\big)^{T} \\text{and }\\mathbf{y} = \\begin{bmatrix}y^{(1)}\\\\\\vdots\\\\y^{(n)}\\end{bmatrix}\\ \\mathbf{X} \\in \\mathbb{R}^{m \\times 2},\\mathbf{y}\\in\\mathbb{R}^{m}.\n",
    "\\end{align}\n",
    "An optimal weight vector $\\mathbf{w}_{\\rm opt}$ solving \\eqref{eq4} induces an optimal predictor $h_{\\rm opt}(x) = h^{(\\mathbf{w}_{\\rm opt})}(\\mathbf{x}) = \\big( \\mathbf{w}_{\\rm opt} \\big)^{T} \\mathbf{x}$ which solves \\eqref{eq3}. \n",
    "It can be shown that the optimization problem always has a solution $\\mathbf{w}_{\\rm opt}$, but the solution might not be unique, i.e., there are several different weight vectors achieving the minimum \\eqref{eq4}. However, whenever the matrix $\\mathbf{X}^T \\mathbf{X}$ is invertible, the solution of (\\ref{eq4}) is unique and given by the closed-form expression \n",
    "\\begin{align}\n",
    "\\mathbf{w}_{\\rm opt} = (\\mathbf{X}^T \\mathbf{X})^{-1}\\mathbf{X}^T \\mathbf{y}.\n",
    "\\label{eq5}\n",
    "\\tag{5}\n",
    "\\end{align}\n",
    "\n",
    " \n",
    "### Coding Tips\n",
    "\n",
    "- You can use the numpy function `np.ones(n)` to generate a vector of ones (e.g. `[1,1,1, ..., 1]`) \n",
    "- To determine the length of a vector, you can use python function `len(vector)`\n",
    "- To determine the dimensions of a numpy vector/matrix you can use `mat.shape`. try:\n",
    "   - `mat = np.array([[1, 1, 1], [2, 2, 2]]); print(\"shape of the matrix is:\", mat.shape);`\n",
    "\n",
    "### Common Pitfalls\n",
    "\n",
    "- Check the names of variables that you are using. It is easy to confuse `X` and `x` which are considered as different variables since Python is case-sensitive. \n",
    "- Pay attention to how you are transposing the matrices in your calculations. A single wrong transpose can lead to erroneous behavior.\n",
    "- Please notice that in previous section code we used `x = ...` and `y = ...` and these variables still exist as you progress in this notebook, unless you replace them with something else\n",
    "\n",
    "### Student Tasks\n",
    "\n",
    "- 3.3.1 [Feature Matrix](#featurematrix)\n",
    "- 3.3.2 [Compute Optimal Weight Vector](#fitfunction)\n",
    "- 3.3.3 [Empirical Risk](#empiricalrisk)\n",
    "- 3.3.4 [Predict function](#predictfunction)\n",
    "- 3.3.5 [Linear Regression](#regressionfunction)\n",
    "\n",
    "<a id='featurematrix'></a>\n",
    "    <div class=\" alert alert-warning\"><b>Student Task.</b> - Feature Matrix\n",
    "\n",
    "Implement a Python function `X=featureMatrix(x)` which, \n",
    "\n",
    "- reads in the vector $\\mathbf{x}=(x^{(1)},...,x^{(m)})^{T}\\in \\mathbb{R}^{m}$, consisting of country GDPs $x^{(i)}$.\n",
    "- The function should return the feature matrix $\\mathbf{X}=\\big(\\mathbf{x}^{(1)},\\ldots,\\mathbf{x}^{(m)}\\big)^{T} \\in \\mathbb{R}^{m \\times 2}$ whose $i$th row  contains the (augmented) feature vector $\\mathbf{x}^{(i)} = \\big(x^{(i)},1\\big)^{T} \\in \\mathbb{R}^{2}$. \n",
    "\n",
    "</div>"
   ]
  },
  {
   "cell_type": "code",
   "execution_count": null,
   "metadata": {
    "deletable": false,
    "nbgrader": {
     "cell_type": "code",
     "checksum": "f6841de58efdb83e8830173737a9b835",
     "grade": false,
     "grade_id": "cell-577688b1df8c48f9",
     "locked": false,
     "schema_version": 3,
     "solution": true
    }
   },
   "outputs": [],
   "source": [
    "def featureMatrix(x):\n",
    "    \"\"\"\n",
    "    Augment value one to each data point in x and return the resulting matrix.\n",
    "    \n",
    "    :param x: data, type=numpy.ndarray. \n",
    "    \n",
    "    :return: array-like, shape=(m, n), feature-matrix with n=2 features.\n",
    "    \"\"\"\n",
    "    # YOUR CODE HERE\n",
    "    raise NotImplementedError()\n",
    "    return X"
   ]
  },
  {
   "cell_type": "code",
   "execution_count": null,
   "metadata": {
    "deletable": false,
    "editable": false,
    "nbgrader": {
     "cell_type": "code",
     "checksum": "75af710f18ebe2a51b348c6afac4efc9",
     "grade": true,
     "grade_id": "cell-47f99678006314d1",
     "locked": true,
     "points": 1,
     "schema_version": 3,
     "solution": false
    }
   },
   "outputs": [],
   "source": [
    "X_test = featureMatrix(x)\n",
    "assert X_test.shape == (176, 2), \"Output matrix of the function featureMatrix() has wrong dimensions.\"\n",
    "assert X_test[:, 1].all() == 1, \"One column should only include 1's\"\n",
    "print('Sanity check tests passed!')"
   ]
  },
  {
   "cell_type": "markdown",
   "metadata": {
    "deletable": false,
    "editable": false,
    "nbgrader": {
     "cell_type": "markdown",
     "checksum": "cd30cc88881124f59816db62da961989",
     "grade": false,
     "grade_id": "cell-337a7b02b4607371",
     "locked": true,
     "schema_version": 3,
     "solution": false
    }
   },
   "source": [
    "<a id='fitfunction'></a>\n",
    "    <div class=\" alert alert-warning\"><b>Student Task</b> - Compute Optimal Weight Vector\n",
    "\n",
    "Implement a Python function `w_opt = fit(X, y)` which\n",
    "- reads in the feature matrix $\\mathbf{X} \\in \\mathbb{R}^{m \\times n}$ and label vector $\\mathbf{y} \\in \\mathbb{R}^{m}$ with arbitrary number $m$ of data points and feature length $n$.\n",
    "- The function should return the optimal weight vector $\\mathbf{w}_{\\rm opt}$ according to Eq. ([5](#mjx-eqn-eq5)) (thus, we can assume that the feature matrix $\\mathbf{X}$ is such that $\\mathbf{X}^{T}\\mathbf{X}$ is invertible). \n",
    "</div>\n",
    "\n",
    "\n"
   ]
  },
  {
   "cell_type": "code",
   "execution_count": null,
   "metadata": {
    "deletable": false,
    "nbgrader": {
     "cell_type": "code",
     "checksum": "cc45d87254f438d7e109c6f651fc3a68",
     "grade": false,
     "grade_id": "cell-ddcad8e9b2aa3f28",
     "locked": false,
     "schema_version": 3,
     "solution": true
    }
   },
   "outputs": [],
   "source": [
    "def fit(X, y):\n",
    "    \"\"\"\n",
    "    Compute optimal weights as described in equation (5)\n",
    "    \n",
    "    :param X: data, type=numpy.ndarray. \n",
    "    :param y: data, type=numpy.ndarray. \n",
    "    \n",
    "    :return: array-like, shape=(m, n).\n",
    "    \"\"\"\n",
    "    ## Compute optimal w by replacing '...' with your solution.\n",
    "    ## Hints: Check out numpy's linalg.inv(), dot() and transpose() functions.\n",
    "    ## Note that X is uppercase.\n",
    "    # w_opt = ...\n",
    "    # YOUR CODE HERE\n",
    "    raise NotImplementedError()\n",
    "    return w_opt"
   ]
  },
  {
   "cell_type": "code",
   "execution_count": null,
   "metadata": {
    "deletable": false,
    "editable": false,
    "nbgrader": {
     "cell_type": "code",
     "checksum": "61e28e79e809215bd689de1506629f2a",
     "grade": true,
     "grade_id": "cell-aef1cfdf38bf8ac0",
     "locked": true,
     "points": 1,
     "schema_version": 3,
     "solution": false
    }
   },
   "outputs": [],
   "source": [
    "x_test = np.array(([0,1],[2, 3])) # no reshape needed as enough dimensions for matrix multiplication\n",
    "y_test = np.array(([5],[5])) # no reshape needed as enough dimensions for matrix multiplication\n",
    "w_opt_test = fit(x_test, y_test)\n",
    "assert w_opt_test.shape == (2, 1), \"Weight matrix has wrong dimensions.\"\n",
    "assert (w_opt_test[0][0] <= -4.999 and w_opt_test[0][0] >= -5.001), \"Your implementation calculates wrong weights.\"\n",
    "print('Sanity check tests passed!')\n"
   ]
  },
  {
   "cell_type": "markdown",
   "metadata": {
    "deletable": false,
    "editable": false,
    "nbgrader": {
     "cell_type": "markdown",
     "checksum": "deae496262763311ff95fc4df9b115f5",
     "grade": false,
     "grade_id": "cell-28ef9d3320103200",
     "locked": true,
     "schema_version": 3,
     "solution": false
    }
   },
   "source": [
    "<a id='empiricalrisk'></a>\n",
    "<div class=\" alert alert-warning\"><b>Student Task</b> - Empirical Risk\n",
    "\n",
    "Implement a Python function `err = empirical_risk(X, y, w)` which\n",
    "- reads in the feature matrix $\\mathbf{X} \\in \\mathbb{R}^{m \\times n}$, label vector $\\mathbf{y} \\in \\mathbb{R}^{m}$ and weight vector $\\mathbf{w}\\in \\mathbb{R}^{n}$ of a linear predictor $\\widehat{y} = \\mathbf{w}^{T} \\mathbf{x}$.\n",
    "- The function should return the empirical error $\\mathcal{E}(\\mathbf{w}) = (\\frac{1}{m}) \\sum_{i=1}^{m} \\big(\\widehat{y}^{(i)} - y^{(i)}\\big)^{2}$ (see Eq. ([2](#mjx-eqn-eq2))).\n",
    "- The function should cope with arbitrary choices for number $m$ of data points and length $n$ of the feature vectors. \n",
    "</div>\n",
    "</div>"
   ]
  },
  {
   "cell_type": "code",
   "execution_count": null,
   "metadata": {
    "deletable": false,
    "nbgrader": {
     "cell_type": "code",
     "checksum": "139b5eb1d5aaed9da35ac4248aa128dc",
     "grade": false,
     "grade_id": "cell-17f7c56e96b61316",
     "locked": false,
     "schema_version": 3,
     "solution": true
    }
   },
   "outputs": [],
   "source": [
    "def empirical_risk(X, y, w_opt):\n",
    "    \"\"\"\n",
    "    Calculate the empirical risk of the  prediction. Take a look at equation (2).\n",
    "\n",
    "    :param X: array-like, shape=(m, n), feature matrix where n is the amount of features\n",
    "    :param y: array-like, shape=(m, 1), label-vector\n",
    "    :param w_opt: array-like, shape=(1, n), weight vector size of a feature\n",
    "    \n",
    "    :return: scalar-like, type=float\n",
    "    \"\"\"\n",
    "    ## Compute empirical error by replacing '...' with your solution.\n",
    "    ## Hints! Use X, y and w_opt to get necessary matrices. X is uppercase, y is lowercase.\n",
    "    ##        Check out numpy's dot(), mean(), power() and subtract() functions.\n",
    "    # empirical_error = ... \n",
    "    # YOUR CODE HERE\n",
    "    raise NotImplementedError()\n",
    "    return empirical_error"
   ]
  },
  {
   "cell_type": "code",
   "execution_count": null,
   "metadata": {
    "deletable": false,
    "editable": false,
    "nbgrader": {
     "cell_type": "code",
     "checksum": "96e5c2ffd8273a245d0c89d474e700c3",
     "grade": true,
     "grade_id": "cell-94d3caabebe8e298",
     "locked": true,
     "points": 1,
     "schema_version": 3,
     "solution": false
    }
   },
   "outputs": [],
   "source": [
    "x_test = np.array(([0, 1],[2, 3])) # no reshape needed as there are enough dimensions for matrix multiplication\n",
    "y_test = np.array(([5],[5])) # no reshape needed as there are enough dimensions for matrix multiplication\n",
    "w_opt_test = fit(x_test, y_test)\n",
    "empirical_risk_test = empirical_risk(x_test, y_test, w_opt_test)\n",
    "assert empirical_risk_test > 0 and empirical_risk_test < 1e-28, \"Output of the empirical risk function should be a scalar that is larger than zero and in this test case less than '1e-28'\"\n",
    "print('Sanity check tests passed!')"
   ]
  },
  {
   "cell_type": "markdown",
   "metadata": {
    "deletable": false,
    "editable": false,
    "nbgrader": {
     "cell_type": "markdown",
     "checksum": "20a0fdb1dd1d3f29a35d4621441c2d53",
     "grade": false,
     "grade_id": "cell-69cdd24a9282d371",
     "locked": true,
     "schema_version": 3,
     "solution": false
    }
   },
   "source": [
    "<a id='predictfunction'></a>\n",
    "<div class=\" alert alert-warning\"><b>Student Task</b> - Predict function\n",
    "\n",
    "Implement a Python function `y_hat = predict(X,w)` that\n",
    "- reads in a feature matrix $\\mathbf{X} \\in \\mathbb{R}^{m \\times n}$ and weight vector $\\mathbf{w} \\in \\mathbb{R}^{n}$. The function should return a vector $\\widehat{\\mathbf{y}}=\\big(\\widehat{y}^{(1)},\\ldots,\\widehat{y}^{(m)} \\big)^{T} \\in \\mathbb{R}^{m}$ of length $m$ which contains the predicted labels $\\widehat{y}^{(i)} = \\mathbf{w}^{T} \\mathbf{x}^{(i)}$ (see Eq. [1](#mjx-eqn-eq1).)\n",
    "</div>\n",
    "\n"
   ]
  },
  {
   "cell_type": "code",
   "execution_count": null,
   "metadata": {
    "deletable": false,
    "nbgrader": {
     "cell_type": "code",
     "checksum": "aa4f1169fe9153bf040aff64045e477c",
     "grade": false,
     "grade_id": "cell-a2b23508ea3c89f6",
     "locked": false,
     "schema_version": 3,
     "solution": true
    }
   },
   "outputs": [],
   "source": [
    "def predict(X, w):\n",
    "    \"\"\"\n",
    "    Calculate the prediction with original feature matrix and final weight vector\n",
    "    :param X: array-like, shape=(m, n), feature matrix where  is the number of features\n",
    "    :param w: array-like, shape=(1, n), weigh vector size of a feature\n",
    "    \n",
    "    :return: array-like, shape=(m, 1), prediction with given weight vector and feature matrix.\n",
    "    \"\"\"\n",
    "    ## Predict new y data by replacing '...' with your solution.\n",
    "    ## Hint! Use X and w_opt to get necessary matrices.\n",
    "    # y_pred ...\n",
    "    # YOUR CODE HERE\n",
    "    raise NotImplementedError()\n",
    "    return y_pred"
   ]
  },
  {
   "cell_type": "code",
   "execution_count": null,
   "metadata": {
    "deletable": false,
    "editable": false,
    "nbgrader": {
     "cell_type": "code",
     "checksum": "a3fd7a1f2eab33001b8f8a34297d1761",
     "grade": true,
     "grade_id": "cell-48edd0f83f0e620b",
     "locked": true,
     "points": 1,
     "schema_version": 3,
     "solution": false
    }
   },
   "outputs": [],
   "source": [
    "x_test = np.array(([0,1], [2, 3])) # no reshape needed as enough dimensions for matrix multiplication\n",
    "y_test = np.array(([0], [1])) # no reshape needed as enough dimensions for matrix multiplication\n",
    "w_opt_test = fit(x_test, y_test)\n",
    "assert w_opt_test.shape == (2, 1), \"Matrix dimensions of the weights matrix are wrong.\"\n",
    "pred_test = predict(x_test, w_opt_test)\n",
    "print('Sanity check tests passed!')"
   ]
  },
  {
   "cell_type": "markdown",
   "metadata": {
    "deletable": false,
    "editable": false,
    "nbgrader": {
     "cell_type": "markdown",
     "checksum": "4a3b1355316308fb6a34388266672a70",
     "grade": false,
     "grade_id": "cell-5224a6be0bbd92f2",
     "locked": true,
     "schema_version": 3,
     "solution": false
    }
   },
   "source": [
    "<a id='regressionfunction'></a>\n",
    "<div class=\" alert alert-warning\"><b>Student Task</b> - Linear Regression\n",
    "Implement a Python function `w_opt, err = linearRegression(X,y)` which\n",
    "\n",
    "- reads in the vector $\\mathbf{x}=\\big(x^{(1)},\\ldots,x^{(m)}\\big)^{T} \\in \\mathbb{R}^{m}$ of GDP values and the vector $\\mathbf{y}=\\big(y^{(1)},\\ldots,y^{(m)}\\big)^{T} \\in \\mathbb{R}^{m}$ of life expectancy values for the countries.\n",
    "- The function should return the optimal weight vector $\\mathbf{w}_{\\rm opt}$ and the corresponding minimum empirical error $\\mathcal{E}(\\mathbf{w}_{\\rm opt})$.\n",
    "\n",
    "**Hint:** You should make use and combine the functions implemented above. \n",
    "</div>"
   ]
  },
  {
   "cell_type": "code",
   "execution_count": null,
   "metadata": {
    "deletable": false,
    "nbgrader": {
     "cell_type": "code",
     "checksum": "a7ced113fc07d856cc2f0449ce717841",
     "grade": false,
     "grade_id": "cell-a49eff1c91e9d549",
     "locked": false,
     "schema_version": 3,
     "solution": true
    }
   },
   "outputs": [],
   "source": [
    "def labelVector(y):\n",
    "    \"\"\"\n",
    "    :param y: array-like, shape=(m, 1), label-vector\n",
    "    \n",
    "    :return: array-like, shape=(m, 1), reshaped label vector.\n",
    "    \"\"\"\n",
    "    \n",
    "    return np.reshape(y,(len(y),1))\n",
    "\n",
    "def linearRegression(x, y):\n",
    "    \"\"\"\n",
    "    Generate optimal weights and empirical error of the polynomial regression model\n",
    "    \n",
    "    :param x: array-like, shape=(m, n), feature matrix where n is the amount of features\n",
    "    :param y: array-like, shape=(m, 1), label-vector\n",
    "   \n",
    "    :return w_opt array-like, optimal weights of the model\n",
    "    :return empirical_error scalar-like, empirical_error of the model    \n",
    "    \"\"\"\n",
    "    ## Calculate X, Y, w_opt and empirical_error\n",
    "    ## Hints! Use featureMatrix() and labelVector() to get necessary matrices, X and Y.\n",
    "    # X = ... \n",
    "    # Y = ...\n",
    "    # w_opt=...\n",
    "    # empirical_error=...\n",
    "    # YOUR CODE HERE\n",
    "    raise NotImplementedError()\n",
    "    return w_opt, empirical_error"
   ]
  },
  {
   "cell_type": "code",
   "execution_count": null,
   "metadata": {
    "deletable": false,
    "editable": false,
    "nbgrader": {
     "cell_type": "code",
     "checksum": "2b5a5e07c73833570d8576a6403bd940",
     "grade": true,
     "grade_id": "cell-d1a418327db9321a",
     "locked": true,
     "points": 1,
     "schema_version": 3,
     "solution": false
    }
   },
   "outputs": [],
   "source": [
    "w_opt, empirical_error = linearRegression(np.array([0,1,2,3]), np.array([0,1,2,3]))\n",
    "# Because of computational rounding errors, empirical error is almost never exactly 0\n",
    "assert empirical_error < 1e-30, \"Empirical error is too high\"\n",
    "assert w_opt.shape == (2, 1), \"Weight matrix has wrong dimensions\" # test for matrix dimension\n",
    "print('Sanity check tests passed!')"
   ]
  },
  {
   "cell_type": "markdown",
   "metadata": {
    "deletable": false,
    "editable": false,
    "nbgrader": {
     "cell_type": "markdown",
     "checksum": "d5c7697fd9adca6b0241dcdfa4b25105",
     "grade": false,
     "grade_id": "cell-d629066df9b790ae",
     "locked": true,
     "schema_version": 3,
     "solution": false
    }
   },
   "source": [
    "<a id='drawplot'></a>\n",
    "<div class=\" alert alert-info\"><b>Demo.</b> Visualize Empirical Risk.</div>\n",
    "  \n",
    "Execute the cell below. You should obtain a plot similar to $\\bf{Figure\\ 3.}$, but with a legend showing the empirical error and your prediction line in red."
   ]
  },
  {
   "cell_type": "code",
   "execution_count": null,
   "metadata": {
    "deletable": false,
    "editable": false,
    "nbgrader": {
     "cell_type": "code",
     "checksum": "6130df4461a8926ba07ce5989a0e483a",
     "grade": false,
     "grade_id": "cell-e64d498744cd298c",
     "locked": true,
     "schema_version": 3,
     "solution": false
    }
   },
   "outputs": [],
   "source": [
    "def draw_plot(x, y, title=''):\n",
    "    \"\"\"\n",
    "    Draws the plot of the data\n",
    "\n",
    "    :param x: array-like, shape=(m, n), feature matrix where m is the amount of features\n",
    "    :param y: array-like, shape=(m, 1), label-vector\n",
    "    :param optional title, title of the plot.\n",
    "    \n",
    "    :return: nothing\n",
    "    \"\"\"\n",
    "    w_opt, empirical_error = linearRegression(x, y)\n",
    "    x_pred = np.linspace(0,max(x),100)\n",
    "    y_pred = predict(featureMatrix(x_pred), w_opt)\n",
    "    # Plot data points and linear regression fitting line\n",
    "    plt.figure(figsize=(8, 8))\n",
    "    plt.scatter(x, y)\n",
    "    plt.plot(x_pred,y_pred,'r', label=(\"Empirical = %.4f\" % empirical_error))\n",
    "    plt.title(title)\n",
    "    plt.xlabel('GDP per capita')\n",
    "    plt.ylabel('Life expectancy')\n",
    "    plt.legend()\n",
    "    axis = plt.gca()\n",
    "    plt.show()\n",
    "\n",
    "    \n",
    "######### Linear regression model for x and y data #########\n",
    "draw_plot(x, y, r'$\\bf{Figure\\ 4.}$ GDP per capita and life expectancy')"
   ]
  },
  {
   "cell_type": "markdown",
   "metadata": {
    "deletable": false,
    "editable": false,
    "nbgrader": {
     "cell_type": "markdown",
     "checksum": "f18424020e65ce313a036829404d4d2b",
     "grade": false,
     "grade_id": "cell-e2d92222a1a0d18c",
     "locked": true,
     "schema_version": 3,
     "solution": false
    }
   },
   "source": [
    "## 3.4 Polynomial Regression\n",
    "\n",
    "When looking at $\\bf{Figure\\ 3.}$, it seems that the relation between life expectancy $y$ and GDP $x$ of a data point (country) is not linear. Therefore it is useful to consider a hypothesis space constituted by non-linear functions. One of the most basic non-linear functions are polynomial functions\n",
    "\\begin{equation}\n",
    "\\label{equ_def_poly_hyposapce}\n",
    "\\mathcal{H}^{(d)}_{\\rm poly} = \\{ h^{(\\mathbf{w})}(\\cdot): \\mathbb{R} \\rightarrow \\mathbb{R}: h^{(\\mathbf{w})}(x) = \\sum_{r=0}^{d} w_{r+1} x^{r} \\mbox{, with some } \\mathbf{w} =(w_{1},\\ldots,w_{d})^{T} \\in \\mathbb{R}^{d} \\}.\n",
    "\\end{equation}\n",
    "Note that the hypothesis space $\\mathcal{H}^{(d)}_{\\rm poly}$ is parametrized by the number $d$ which is the maximum degree of the polynomial functions contained in $\\mathcal{H}^{(d)}_{\\rm poly}$.\n",
    "\n",
    "As in previous part [3.3 Linear-Regression](#3.3-Linear-Regression), the quality of a predictor $h^{(\\mathbf{w})}$ is measured by the squared error loss and linear regression amounts to minimizing the  average squared error loss (mean squared error):\n",
    "\\begin{equation} \n",
    "\\min_{h \\in \\mathcal{H}_{\\rm poly} } \\frac{1}{m} \\sum_{i=1}^{m} (y^{(i)} - h^{(\\mathbf{w})}(x^{(i)}))^{2} \\mbox{, where } h^{(\\mathbf{w})}(x)=\\sum_{r=0}^{d} w_{r+1} x^{r}.\n",
    "\\end{equation} \n",
    "\n",
    "It can be shown (Section [3.4 Polynomial-Regression](#3.4-Polynomial-Regression) of the course book) that polynomial regression is equivalent to combining linear regression with a feature map. In particular, we map the features $x$ (GDP per capita) of the data points to a higher dimensional feature space using the feature map \n",
    "\n",
    "\\begin{equation}\n",
    "\\phi(x) = (x^{d},..,x^1, x^0)^{T} \\in \\mathbb{R}^{d}.\n",
    "\\label{eq7}\n",
    "\\tag{7}\n",
    "\\end{equation}\n",
    "\n",
    "This feature map takes the original feature $x^{(i)} \\in \\mathbb{R}$ (GDP per capita) of the $i$th country as input and returns a new feature vector $\\mathbf{x}^{(i)}= \\phi(x^{(i)}) \\in \\mathbb{R}^{n}$ of length $n=d+1$ where $d$ is the maximum degree for the polynomials in $\\mathcal{H}^{(d)}_{\\rm poly}$. The resulting feature matrix is  \n",
    "\\begin{equation*}\n",
    "    \\mathbf{X}_{poly}=\\begin{bmatrix}\n",
    "        (x^{(1)})^{d} & \\dots & (x^{(1)})^{1}& (x^{(1)})^{0}\\\\\n",
    "        (x^{(2)})^{d} & \\dots & (x^{(2)})^{1}& (x^{(2)})^{0}\\\\\n",
    "      \\vdots & \\ddots& \\vdots & \\vdots\\\\\n",
    "       (x^{(m-1)})^{d} & \\dots & (x^{(m-1)})^{1}& (x^{(m-1)})^{0}\\\\\n",
    "      (x^{(m)})^{d} & \\dots & (x^{(m)})^{1}& (x^{(m)})^{0}\n",
    "    \\end{bmatrix}.\n",
    "\\label{eq8}\n",
    "\\tag{8}\n",
    "\\end{equation*}\n",
    "\n",
    "Polynomial regression is is equivalent to linear regression with new features meaning $\\mathbf{x}^{(i)} = \\phi(x^{(i)})$, with $x^{(i)}$ being the GDP per capita of country $i$. \n",
    "\n",
    "### Student Tasks\n",
    "\n",
    "- 3.4.1 [Feature Mapping](#featuremapping)\n",
    "- 3.4.2 [Polynomial Regression](#polynomialregression)\n",
    "\n",
    "<a id='featuremapping'></a>\n",
    "<div class=\" alert alert-warning\"><b>Student Task</b> - Feature Mapping\n",
    "    \n",
    "Implement a Python function `X_poly = feature_mapping(x, d)` which\n",
    "\n",
    "- reads in a vector $\\big(x^{(1)},\\ldots,x^{(m)}\\big) \\in \\mathbb{R}^{m}$ which contains the feature values (GDP) $x^{(i)}$ of the data points in $\\mathcal{X}$.\n",
    "- This function should return the feature matrix $\\mathbf{X}_{\\rm poly}$ (Eq. ([8](#mjx-eqn-eq8))) with given degree $d$ (which is an input parameter with default value $d=1$).\n",
    "\n",
    "</div>"
   ]
  },
  {
   "cell_type": "code",
   "execution_count": null,
   "metadata": {
    "deletable": false,
    "nbgrader": {
     "cell_type": "code",
     "checksum": "69f6831c16037bc716d697d7a2fe51ec",
     "grade": false,
     "grade_id": "cell-2b1951f66bd61bd3",
     "locked": false,
     "schema_version": 3,
     "solution": true
    }
   },
   "outputs": [],
   "source": [
    "# Enlarge the scalar feature (GDP) using feature mapping with polynomials \n",
    "# return matrix with following mappings:\n",
    "#      [[x_1^(d), x_1^(d-1), x_1^(d-2), ... , x_1^(0)]\n",
    "#        ...         ...        ...     ...     ... \n",
    "#       [x_m^(d), x_m^(d-1), x_m^(d-2), ... ,x_m^(0)]]\n",
    "# \n",
    "# Please implement as above, where the first term is to the power of \"d\".\n",
    "#\n",
    "def feature_mapping(x, d=1):\n",
    "    \"\"\"\n",
    "    Generate a feature map.\n",
    "    \n",
    "    :param x: array-like, data. \n",
    "    :param d: scalar-like, type: int, degree of the polynomial. \n",
    "    \n",
    "    :return: array-like, shape=(m, n), feature-map with n=d+1 features.\n",
    "    \"\"\"\n",
    "    ## Compute specified feature mapping by replacing '...' with your solution.\n",
    "    ## Hints! Use x to get all the feature vectors of the data set.\n",
    "    ##  Check out numpy's power(), vstack(), hstack() and column_stack() functions.\n",
    "    ##  It is not necessary to use any or all of the above mentioned functions, but they might be helpful.      \n",
    "    # polynomial_features = ...\n",
    "    # YOUR CODE HERE\n",
    "    raise NotImplementedError()\n",
    "    return polynomial_features"
   ]
  },
  {
   "cell_type": "code",
   "execution_count": null,
   "metadata": {
    "deletable": false,
    "editable": false,
    "nbgrader": {
     "cell_type": "code",
     "checksum": "1056099810d2f709f1e6dd1bddc069d4",
     "grade": true,
     "grade_id": "cell-14387622e8d7d81c",
     "locked": true,
     "points": 1,
     "schema_version": 3,
     "solution": false
    }
   },
   "outputs": [],
   "source": [
    "d_test = 2\n",
    "X_test = feature_mapping(x, d_test)\n",
    "assert X_test.shape == (len(x), 3), \"The feature matrix returned by the 'feature_mapping()' function has wrong dimensions.\"\n",
    "print('Sanity check tests passed!')\n"
   ]
  },
  {
   "cell_type": "markdown",
   "metadata": {},
   "source": [
    "<a id='polynomialregression'></a>\n",
    "<div class=\" alert alert-warning\"><b>Student Task</b> - Polynomial Regression\n",
    "\n",
    "Implement a Python function `w_opt, empirical_error = polynomialRegression(x, y, d=1)` which implements the following steps: \n",
    "- use `feature_mapping(x, d)` to obtain the feature matrix (Eq. [8](#mjx-eqn-eq8))\n",
    "- compute the optimal weight vector `w_opt` by inserting the feature matrix (Eq. [8](#mjx-eqn-eq8)) into (Eq. [5](#mjx-eqn-eq5))\n",
    "- use weight vector to compute predictions $\\hat{y}$ for the labels $y$\n",
    "- compute the empirical risk obtained when predicting the labels in the dataset $\\mathcal{X}$ \n",
    "</div>"
   ]
  },
  {
   "cell_type": "code",
   "execution_count": null,
   "metadata": {
    "deletable": false,
    "nbgrader": {
     "cell_type": "code",
     "checksum": "9ec56cf80794ca51977897e62aabdc93",
     "grade": false,
     "grade_id": "cell-11fc68ebf5692b75",
     "locked": false,
     "schema_version": 3,
     "solution": true
    }
   },
   "outputs": [],
   "source": [
    "# This function is to transform the label vector to proper format\n",
    "def labelVector(y):\n",
    "    # Reshape y to ensure correct behavior when doing matrix operations\n",
    "    return np.reshape(y,(len(y),1))\n",
    "\n",
    "# Polynomial regression model for feature mapping.\n",
    "# Take advantage of functions used in 3.3 Linear Regression\n",
    "def polynomialRegression(x, y, d=1):\n",
    "    \"\"\"\n",
    "    Generate optimal weights and empirical error of the linear regression model\n",
    "    \n",
    "    :param x: array-like, shape=(m, n), feature matrix where n is the amount of features\n",
    "    :param y: array-like, shape=(m, 1), label-vector\n",
    "    :param d: array-like, polynomial degree of the model.\n",
    "    \n",
    "    :return w_opt array-like, optimal weights of the model\n",
    "    :return empirical_error scalar-like, empirical_error of the model    \n",
    "    \"\"\"\n",
    "    ## Calculate w_opt, empirical_error, X and Y\n",
    "    # X = ...\n",
    "    # Y = ...\n",
    "    # w_opt=...\n",
    "    # empirical_error=...\n",
    "    # YOUR CODE HERE\n",
    "    raise NotImplementedError()\n",
    "    return w_opt, empirical_error"
   ]
  },
  {
   "cell_type": "code",
   "execution_count": null,
   "metadata": {
    "deletable": false,
    "editable": false,
    "nbgrader": {
     "cell_type": "code",
     "checksum": "0519ddfed415810c35e93a5fb7cf5363",
     "grade": true,
     "grade_id": "cell-47b4d097a094ab03",
     "locked": true,
     "points": 1,
     "schema_version": 3,
     "solution": false
    }
   },
   "outputs": [],
   "source": [
    "w_opt_test, empirical_error_test = polynomialRegression(x, y, d=5)\n",
    "assert w_opt_test.shape == (6, 1), \"Output matrix of the 'polynomialRegression()' function has wrong dimensions.\"\n",
    "print('Sanity check tests passed!')\n"
   ]
  },
  {
   "cell_type": "markdown",
   "metadata": {
    "deletable": false,
    "editable": false,
    "nbgrader": {
     "cell_type": "markdown",
     "checksum": "f9bcfc38e9f473f09259c3fc30a0c51d",
     "grade": false,
     "grade_id": "cell-4bb04eafb31861c4",
     "locked": true,
     "schema_version": 3,
     "solution": false
    }
   },
   "source": [
    "<a id='polynomialscatter'></a>\n",
    "<div class=\" alert alert-info\"><b>Demo.</b> Visualize Polynomial Regression</div>\n",
    "    \n",
    "The following code generates a scatter plot of the dataset $\\mathcal{X}$ and adds a red curve representing the optimal polynomial predictor. \n"
   ]
  },
  {
   "cell_type": "code",
   "execution_count": null,
   "metadata": {
    "deletable": false,
    "editable": false,
    "nbgrader": {
     "cell_type": "code",
     "checksum": "c95a731a2cac19a1de607826735f512c",
     "grade": false,
     "grade_id": "cell-7c03ebaeaf8b9a4d",
     "locked": true,
     "schema_version": 3,
     "solution": false
    }
   },
   "outputs": [],
   "source": [
    "def draw_plot(x, y, title='', degree=1):\n",
    "    \"\"\"\n",
    "    Draws the plot of the data\n",
    "\n",
    "    :param x: array-like, shape=(m, n), feature matrix where m is the amount of features\n",
    "    :param y: array-like, shape=(m, 1), label-vector\n",
    "    :param optional title, title of the plot.\n",
    "    :param optional degree, the degree of the polynomial.\n",
    "    \n",
    "    :return: nothing\n",
    "    \"\"\"\n",
    "    w_opt, empirical_error = polynomialRegression(x, y, degree)\n",
    "    \n",
    "    x_pred = np.linspace(0, 150000, 10000)\n",
    "    \n",
    "    # predict new y values using feature mapping\n",
    "    y_pred = predict(feature_mapping(x_pred, degree), w_opt)\n",
    "    # Plot data points and linear regression fitting line\n",
    "    plt.figure(figsize=(8, 8))\n",
    "    plt.scatter(x, y)\n",
    "    plt.plot(x_pred, y_pred,'r', label=(\"Empirical = %.4f\" % empirical_error))\n",
    "    plt.annotate(r'$h^{(\\mathbf{w})}(x)$', xy=(120000, 77), xytext=(90000, 73),\n",
    "            arrowprops=dict(color='red',arrowstyle='-|>'),fontsize=15)\n",
    "    plt.title(title)\n",
    "    plt.xlabel('feature x (GDP per capita)')\n",
    "    plt.ylabel('label y (life expectancy)')\n",
    "    plt.legend()\n",
    "    plt.show()\n",
    "\n",
    "        \n",
    "######### Linear regression model for x and y data #########\n",
    "draw_plot(x,y,r'$\\bf{Figure 5.}$GDP vs. life expectancy',degree=5)"
   ]
  },
  {
   "attachments": {
    "1*ZmzSnV6xluGa42wtU7KYVA.gif": {
     "image/gif": "[encoded data removed]"
    }
   },
   "cell_type": "markdown",
   "metadata": {
    "deletable": false,
    "editable": false,
    "nbgrader": {
     "cell_type": "markdown",
     "checksum": "f1056a1be2c7e87e30b7478c73fcfad3",
     "grade": false,
     "grade_id": "cell-f0d489178074a2da",
     "locked": true,
     "schema_version": 3,
     "solution": false
    }
   },
   "source": [
    "## 3.5 Gradient Descent\n",
    "\n",
    "Recall section  [3.3 Linear Regression](#3.3-Linear-Regression) above, where the optimal predictor $h^{(\\mathbf{w}_{\\rm opt})}$ was found by minimizing empirical error $\\mathcal{E}(\\mathbf{w})$ using the closed-form solution \n",
    "\n",
    "\\begin{align}\n",
    "\\mathbf{w}_{\\rm opt} = (\\mathbf{X}^T \\mathbf{X})^{-1}\\mathbf{X}^T \\mathbf{y},\n",
    "\\label{eq5}\n",
    "\\tag{5}\n",
    "\\end{align}\n",
    "\n",
    "with the matrix $\\mathbf{X}$ containing the feature vectors $\\mathbf{x}^{(i)}$ and the vector $\\mathbf{y}$ containing \n",
    "the labels $y^{(i)}$ of the data points. There are two challenges with using the closed-form expression \\eqref{eq5}: First, it only applies if the matrix $\\mathbf{X}^T \\mathbf{X}$ is invertible (note that we have little control over the features as those are obtained from measurements). Second, inverting the matrix $\\mathbf{X}^T \\mathbf{X}$ might be computationally infeasible if we have a lot (billions) of features. Luckily, there is an alternative method for finding the optimal weight vector $\\mathbf{w}_{\\rm opt}$ which avoids these two challenges. This method is based on a simple iterative procedure for finding the minimum of a function: gradient descent **(GD)**. \n",
    "\n",
    "GD amounts to iteratively updating a current guess (or approximation) $\\mathbf{w}^{(k)}$ for the optimal weight $w_{\\rm opt}$ according to the rule:\n",
    "\n",
    "\\begin{equation*}\n",
    "    \\mathbf{w}^{(k+1)} = \\mathbf{w}^{(k)} - \\alpha {\\nabla}_{\\mathbf{w}}\\mathcal{E} (\\mathbf{w}^{(k)}).\n",
    "    \\label{eq10}\n",
    "    \\tag{10}\n",
    "\\end{equation*}\n",
    "The choice of the step-size $\\alpha$ is crucial for how quickly (and if at all) the iterates $\\mathbf{w}^{(k)}$ converge to an optimal weight vector $\\mathbf{w}_{opt}$ which yields smallest empirical risk (see [3.3 Linear-Regression](#3.3-Linear-Regression)). \n",
    "\n",
    "Note that the implementation of GD requires to compute the gradient ${\\nabla}_{\\mathbf{w}}\\mathcal{E} (\\mathbf{w})$.\n",
    "For linear regression and squared error loss this gradient is obtained as \n",
    "\n",
    "\\begin{equation*}\n",
    "{\\nabla}_{\\mathbf{w}}\\mathcal{E} (\\mathbf{w}) =-\\frac{2}{m}\\sum^{m}_{i=1}\\mathbf{x}^{(i)}(y^{(i)} - {{\\mathbf{w}}}^{T} \\mathbf{x}^{(i)}) = -\\frac{2}{m} \\mathbf{X}^{T}(\\mathbf{y}-\\mathbf{X} \\mathbf{w}).\n",
    "\\label{eq11}\n",
    "\\tag{11}\n",
    "\\end{equation*}\n",
    "\n",
    "GD is started by initializing the weight vector $\\mathbf{w}$ to some value, either randomly or setting $\\mathbf{w}^{(0)}=\\big(0,\\dots,0\\big)^{T}$ and then repeating the GD update \\eqref{eq10} until some termination criterion is met. Two simple options for the termination criterion are: \n",
    "- (i) using a fixed number of iterations\n",
    "- (ii) checking the decrease of the objective function and stopping when the decrease is below a threshold. \n",
    "\n",
    "It can shown that for a sufficiently small step size $\\alpha$, GD always converges to the optimal weight vector $\\mathbf{w}_{\\rm opt}$, regardless of which initial guess $w^{(0)}$ has been used. The convergence speed depends crucially on the precise choice of the step size $\\alpha$: If $\\alpha$ is too large, the iterations may not converge at all while if $\\alpha$ is too small, the convergence is unacceptably slow. \n",
    "\n",
    "### Hints\n",
    "\n",
    "* `empirical_risk()` and `X`, `y` -variables are same as in `linearRegression()`!\n",
    "* Check the names of variables that you are using. it is easy to confuse `X` and `x`.\n",
    "* Running the code might take some time (up to 10 minutes) depending on your computer speed. Take this into account before you assume that your code crashed or doesn't work.\n",
    "\n",
    "\n",
    "### Intuition of Gradient Descent\n",
    "\n",
    "![https://hackernoon.com/life-is-gradient-descent-880c60ac1be8](attachment:1*ZmzSnV6xluGa42wtU7KYVA.gif)\n",
    "([illustration source](https://hackernoon.com/life-is-gradient-descent-880c60ac1be8))\n",
    "\n",
    "One can think about GD (see \\ref{eq10}) like rolling a ball down the hill blindfolded. In order to minimize some loss function (which we can think of as a landscape of hills and valleys), we need to find the lowest point of that function (roll a ball down the hill to the lowest point in the valley). If we were not blindfolded, we could see in which direction the steepest decline of the hill is, and we would move the ball there. As we are blind, we need to ask for a hint (which corresponds to calculating the gradient ${\\nabla}_{\\mathbf{w}}\\mathcal{E} (\\mathbf{w})$) on which direction to move down. Indeed, the gradient \"tells us\" the direction of the steepest decline (moving the ball down the hill as fast as possible). We take a small step in that direction, then ask for another hint (we evaluate the gradient at the new location). This goes on either for a fixed number of iterations/steps or when the decrease that can be achieved from moving towards the direction of the gradient is below some threshold.\n",
    "\n",
    "### The Role of the Step Size \n",
    "\n",
    "<img src=\"https://github.com/ivanbara/AICourse/blob/master/stepsize.jpg?raw=true\" width=\"500\">\n",
    "\n",
    "If the step size $\\alpha$ (see \\ref{eq10}) is too large, instead of going down the hill, we might leap to the hill on the other side and even end up going up that side of the hill, thus not achieving convergence.\n",
    "\n",
    "### Student Tasks\n",
    "\n",
    "- 3.5.1 [Gradient function](#gradientfunction)\n",
    "- 3.5.2 [Gradient Descent function](#gradientdescentfunction)\n",
    "- 3.5.3 [Learning rate](#bestalpha)\n",
    "\n",
    "<a id='gradientfunction'></a>\n",
    "<div class=\" alert alert-warning\"><b>Student Task</b> - Gradient Function\n",
    "\n",
    "Implement a Python function `grad = gradient(X, y, w)` which\n",
    "\n",
    "- computes the gradient according to (Eq. [11](#mjx-eqn-eq11)).\n",
    "- This Python function requires as input a feature matrix $X$, label vector $y$ and returns a vector.\n",
    "</div>"
   ]
  },
  {
   "cell_type": "code",
   "execution_count": null,
   "metadata": {
    "deletable": false,
    "nbgrader": {
     "cell_type": "code",
     "checksum": "6ba2ccfe8fd68832d96549a20a8db8f6",
     "grade": false,
     "grade_id": "cell-c6ea1e11deef2a93",
     "locked": false,
     "schema_version": 3,
     "solution": true
    }
   },
   "outputs": [],
   "source": [
    "# Compute gradient as described in equation (11)\n",
    "# return vector:\n",
    "#      [ [w_1]\n",
    "#          ....\n",
    "#        [w_d]]\n",
    "def gradient(X, y, w):\n",
    "    \"\"\"\n",
    "    Calculate a gradient\n",
    "\n",
    "    :param X: array-like, shape=(m, n), feature matrix where m is amount of data rows and n is the amount of features\n",
    "    :param y: array-like, shape=(m, 1), label-vector where m is the amount of data rows\n",
    "    :param w: array-like, shape=(1, n), weight vector with weights for each of n features\n",
    "    \n",
    "    :return: array-like, shape=(m, 1)\n",
    "    \"\"\"\n",
    "    N = X.shape[0]\n",
    "    ## Compute gradient by replacing '...' with your solution.\n",
    "    ## Hint! Use X and y to get necessary matrices.\n",
    "    ## Note: uppercase X and lowercase y as function input.\n",
    "    # gradient = ...\n",
    "    # YOUR CODE HERE\n",
    "    raise NotImplementedError()\n",
    "    return grad"
   ]
  },
  {
   "cell_type": "code",
   "execution_count": null,
   "metadata": {
    "deletable": false,
    "editable": false,
    "nbgrader": {
     "cell_type": "code",
     "checksum": "1f9a713194cfb55fc323ac26acaa66f1",
     "grade": true,
     "grade_id": "cell-bf9677b43487466c",
     "locked": true,
     "points": 1,
     "schema_version": 3,
     "solution": false
    }
   },
   "outputs": [],
   "source": [
    "X_test = np.array([[0, 1], [2, 3]])\n",
    "Y_test = np.array([[4], [2]])\n",
    "w_test = np.zeros((X_test.shape[0], Y_test.shape[1]))\n",
    "gradient_test = gradient(X_test, Y_test, w_test)\n",
    "assert gradient_test.shape == (2, 1), \"Output matrix returned by the 'gradient(X, y, w)' function has wrong dimensions\"\n",
    "print('Sanity check tests passed!')\n"
   ]
  },
  {
   "cell_type": "markdown",
   "metadata": {
    "deletable": false,
    "editable": false,
    "nbgrader": {
     "cell_type": "markdown",
     "checksum": "0bd0a5c447b54623daf6936393534e66",
     "grade": false,
     "grade_id": "cell-fb9215aa1851625d",
     "locked": true,
     "schema_version": 3,
     "solution": false
    }
   },
   "source": [
    "<a id='gradientdescentfunction'></a>\n",
    "<div class=\" alert alert-warning\"><b>Student Task</b> - Gradient descent function\n",
    "\n",
    "Complete Python function `err_vec = gradient_descent(x, y, a, k)` which\n",
    "- implements the GD update (Eq. [10](#mjx-eqn-eq10)).\n",
    "- This Python function takes feature matrix $X$, label vector $y$ learning rate $\\alpha$ and max iterations as inputs and outputs a vector of empirical errors.\n",
    "\n",
    "**Hint:** You should reuse functions that you already implemented in exercise [3.3 Linear-Regression](#3.3-Linear-Regression)\n",
    "</div>\n",
    "\n"
   ]
  },
  {
   "cell_type": "code",
   "execution_count": null,
   "metadata": {
    "deletable": false,
    "nbgrader": {
     "cell_type": "code",
     "checksum": "7fdec1ca56456dddd43759c9f6aef01f",
     "grade": false,
     "grade_id": "cell-27c5e554d3152247",
     "locked": false,
     "schema_version": 3,
     "solution": true
    }
   },
   "outputs": [],
   "source": [
    "# Run GD for k steps\n",
    "# a = alpha/learning rate\n",
    "# k = iteration steps\n",
    "# returns empirical error vector with lenght k: [ Empirical_1, ..., Empirical_k ]\n",
    "def gradient_descent(x, y, a, k):\n",
    "    \"\"\"\n",
    "    Gradient Descent with Logistic Regression\n",
    "    \n",
    "    :param X: array-like, shape=(m, n), feature matrix where n is the amount of features\n",
    "    :param y: array-like, shape=(m, 1), label-vector\n",
    "    :param a: scalar-like, type=int, defines step size of each iteration of gradient descent\n",
    "    :param k: scalar-like, type=int, how many steps we should take.\n",
    "    \n",
    "    :return: array-like, shape=(k)\n",
    "    \"\"\"\n",
    "    ## Hints! Same as in linearRegression()!\n",
    "    # X = ...\n",
    "    # Y = ...\n",
    "    # YOUR CODE HERE\n",
    "    raise NotImplementedError()\n",
    "    \n",
    "    # normalize data by a constant to use reasonable learning rates\n",
    "    X = X/1000000\n",
    "    \n",
    "    # Initial weigth vector (all values 0)\n",
    "    w = np.zeros((X.shape[1], Y.shape[1]))\n",
    "    empirical_errors = []\n",
    "\n",
    "    for i in range(k):\n",
    "        # Calculate gradient\n",
    "        grad = gradient(X, Y, w)\n",
    "        \n",
    "        ## Update weight vector by replacing '...' with your solution.\n",
    "        # w = ...\n",
    "        # YOUR CODE HERE\n",
    "        raise NotImplementedError()\n",
    "        \n",
    "        # Calculate Empirical Risk and append the error into empirical_errors vector\n",
    "        # YOUR CODE HERE\n",
    "        raise NotImplementedError()\n",
    "    return empirical_errors"
   ]
  },
  {
   "cell_type": "code",
   "execution_count": null,
   "metadata": {
    "deletable": false,
    "editable": false,
    "nbgrader": {
     "cell_type": "code",
     "checksum": "a968fca2b2caa7633e2f2df330e5f8fa",
     "grade": true,
     "grade_id": "cell-3fbeee9fb9a95e32",
     "locked": true,
     "points": 1,
     "schema_version": 3,
     "solution": false
    }
   },
   "outputs": [],
   "source": [
    "for i in [1,10,100,200,243]:\n",
    "    err_vec = gradient_descent([0,0.5,1], [0,0.5,1], 1e-5, i)\n",
    "    assert len(err_vec) == i, \"Size of the error vector is wrong\"\n",
    "print('Sanity check tests passed!')\n"
   ]
  },
  {
   "cell_type": "markdown",
   "metadata": {
    "deletable": false,
    "editable": false,
    "nbgrader": {
     "cell_type": "markdown",
     "checksum": "9f614f7cd0a02f3f15a63d319c9b7cde",
     "grade": false,
     "grade_id": "cell-85885521b10c5495",
     "locked": true,
     "schema_version": 3,
     "solution": false
    }
   },
   "source": [
    "<a id='polynomialscatter'></a>\n",
    "<div class=\" alert alert-info\"><b>Demo.</b> Visualize Gradient descent</div>\n",
    "    \n",
    "The following code generates curves that show the convergence with different learning rates and adds a red curve representing your chosen learning rate. "
   ]
  },
  {
   "cell_type": "code",
   "execution_count": null,
   "metadata": {
    "deletable": false,
    "editable": false,
    "nbgrader": {
     "cell_type": "code",
     "checksum": "de47c889552cabafc6dfb5df000aac1c",
     "grade": false,
     "grade_id": "cell-cf0fecc626266b38",
     "locked": true,
     "schema_version": 3,
     "solution": false
    }
   },
   "outputs": [],
   "source": [
    "def visualize_error(x, y, learning_rates, best_alpha = None):\n",
    "    \"\"\"\n",
    "    Generate 2 plots which visualize the error over each gradient descent step\n",
    "    \n",
    "    :param X: array-like, shape=(m, n), feature matrix where n is the amount of features\n",
    "    :param y: array-like, shape=(m, 1), label-vector\n",
    "   \n",
    "    :return axes: plot-axes, python plot library axes which includes both plots\n",
    "    \"\"\"\n",
    "    fig, axes = plt.subplots(1, 2, figsize=(13, 5))\n",
    "\n",
    "    for learning_rate in learning_rates:\n",
    "        # Plot Error against Step Size\n",
    "        GD_converge=gradient_descent(x, y, learning_rate, 1000)   \n",
    "        axes[0].plot(GD_converge,label=(r'$\\alpha=$'+str(learning_rate))) \n",
    "\n",
    "    axes[0].set_xlabel('Number of Iterations')\n",
    "    axes[0].set_ylabel('Empirical Error')\n",
    "    axes[0].legend(loc=0)\n",
    "    axes[0].set_title(r'$\\bf{Figure\\ 6.}$Converge of GD')\n",
    "    \n",
    "    for learning_rate in learning_rates:\n",
    "        # Plot Error against Step Size.\n",
    "        # Now mark the best converge in red. Use value from best as a correct step size.\n",
    "        GD_converge=gradient_descent(x, y, learning_rate, 1000)\n",
    "\n",
    "        if learning_rate == best_alpha:\n",
    "            axes[1].plot(GD_converge,label=(r'$\\alpha=$'+str(learning_rate)), color=\"red\")\n",
    "        else:\n",
    "            axes[1].plot(GD_converge,label=(r'$\\alpha=$'+str(learning_rate)), color=\"blue\")\n",
    "    \n",
    "    axes[1].set_xlabel('Number of Iterations')\n",
    "    axes[1].set_ylabel('Empirical Error')\n",
    "    axes[1].legend(loc=0)\n",
    "    axes[1].set_title(r'$\\bf{Figure\\ 7.}$Converge of GD')\n",
    "    plt.tight_layout()\n",
    "    return axes, best_alpha"
   ]
  },
  {
   "cell_type": "markdown",
   "metadata": {
    "deletable": false,
    "editable": false,
    "nbgrader": {
     "cell_type": "markdown",
     "checksum": "8ed16e84434a5afe5c4260818fff44e0",
     "grade": false,
     "grade_id": "cell-cf99a438ea3b6620",
     "locked": true,
     "schema_version": 3,
     "solution": false
    }
   },
   "source": [
    "<a id='bestalpha'></a>\n",
    "<div class=\" alert alert-warning\"><b>Student Task</b> - Learning Rate\n",
    "\n",
    "- The code snippet below creates a figure entitled \"$\\bf{Figure\\ 6.}$ Converge of GD\" which depicts the convergence of GD for different values of the step-size (these different values are in variable `learning_rates`\n",
    "- Determine which learning rate yields fastest convergence and store in the variable `best_alpha` \n",
    "- Create a $\\bf{Figure\\ 7.}$ which is identical fo $\\bf{Figure\\ 6.}$ except for the color coding of the curves (each curve corresponds to one particular step size): the curve corresponding to `best_alpha` should be red and the remaining curves in blue. \n",
    "</div>"
   ]
  },
  {
   "cell_type": "code",
   "execution_count": null,
   "metadata": {
    "deletable": false,
    "nbgrader": {
     "cell_type": "code",
     "checksum": "f4e8a8b2f7cf7e6af94e219bff4f4c6a",
     "grade": false,
     "grade_id": "cell-c6d826546d2a7cdb",
     "locked": false,
     "schema_version": 3,
     "solution": true
    }
   },
   "outputs": [],
   "source": [
    "learning_rates = np.array([0.01, 0.05, 0.1, 0.2, 0.4, 0.6, 0.8, 0.99])\n",
    "\n",
    "chosen_alpha = None\n",
    "# Change chosen_alpha=None into step size from the vector that provides the fastest convergence. e.g chosen_alpha=0.1\n",
    "# YOUR CODE HERE\n",
    "raise NotImplementedError()\n",
    "\n",
    "GD_plots, best = visualize_error(x, y, best_alpha=chosen_alpha, learning_rates=learning_rates)"
   ]
  },
  {
   "cell_type": "code",
   "execution_count": null,
   "metadata": {
    "deletable": false,
    "editable": false,
    "nbgrader": {
     "cell_type": "code",
     "checksum": "8fd4c169e1d00c1d0b2f80563129a5d0",
     "grade": true,
     "grade_id": "cell-908c43adee09fc2e",
     "locked": true,
     "points": 1,
     "schema_version": 3,
     "solution": false
    }
   },
   "outputs": [],
   "source": [
    "assert best != None, \"You have not specified the best learning rate using the function 'visualize_error' input variable 'best_alpha', please define the chosen_alpha, e.g. chosen_alpha=0.1\"\n",
    "\n",
    "# Check that plots are rendered.\n",
    "from plotchecker import LinePlotChecker\n",
    "for GD_plot in GD_plots:\n",
    "    pc = LinePlotChecker(GD_plot)\n",
    "    pc.assert_num_lines(8)\n",
    "plt.show()\n",
    "print('Sanity check tests passed!')\n"
   ]
  }
 ],
 "metadata": {
  "kernelspec": {
   "display_name": "Python 3",
   "language": "python",
   "name": "python3"
  },
  "language_info": {
   "codemirror_mode": {
    "name": "ipython",
    "version": 3
   },
   "file_extension": ".py",
   "mimetype": "text/x-python",
   "name": "python",
   "nbconvert_exporter": "python",
   "pygments_lexer": "ipython3",
   "version": "3.6.8"
  },
  "varInspector": {
   "cols": {
    "lenName": 16,
    "lenType": 16,
    "lenVar": 40
   },
   "kernels_config": {
    "python": {
     "delete_cmd_postfix": "",
     "delete_cmd_prefix": "del ",
     "library": "var_list.py",
     "varRefreshCmd": "print(var_dic_list())"
    },
    "r": {
     "delete_cmd_postfix": ") ",
     "delete_cmd_prefix": "rm(",
     "library": "var_list.r",
     "varRefreshCmd": "cat(var_dic_list()) "
    }
   },
   "types_to_exclude": [
    "module",
    "function",
    "builtin_function_or_method",
    "instance",
    "_Feature"
   ],
   "window_display": false
  }
 },
 "nbformat": 4,
 "nbformat_minor": 2
}
